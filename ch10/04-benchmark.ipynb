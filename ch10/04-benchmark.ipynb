{
 "cells": [
  {
   "cell_type": "code",
   "execution_count": 2,
   "metadata": {
    "collapsed": true,
    "ExecuteTime": {
     "end_time": "2023-06-06T21:56:37.386315900Z",
     "start_time": "2023-06-06T21:56:37.124843700Z"
    }
   },
   "outputs": [],
   "source": [
    "import tensorrt\n",
    "import tensorflow as tf"
   ]
  },
  {
   "cell_type": "code",
   "execution_count": 3,
   "outputs": [],
   "source": [
    "(x_train, y_train), (x_test, y_test) = tf.keras.datasets.mnist.load_data()"
   ],
   "metadata": {
    "collapsed": false,
    "ExecuteTime": {
     "end_time": "2023-06-06T21:56:41.936048800Z",
     "start_time": "2023-06-06T21:56:41.783678400Z"
    }
   }
  },
  {
   "cell_type": "code",
   "execution_count": 4,
   "outputs": [
    {
     "name": "stderr",
     "output_type": "stream",
     "text": [
      "2023-06-06 23:56:51.311203: I tensorflow/compiler/xla/stream_executor/cuda/cuda_gpu_executor.cc:982] could not open file to read NUMA node: /sys/bus/pci/devices/0000:01:00.0/numa_node\n",
      "Your kernel may have been built without NUMA support.\n",
      "2023-06-06 23:56:51.453428: I tensorflow/compiler/xla/stream_executor/cuda/cuda_gpu_executor.cc:982] could not open file to read NUMA node: /sys/bus/pci/devices/0000:01:00.0/numa_node\n",
      "Your kernel may have been built without NUMA support.\n",
      "2023-06-06 23:56:51.453509: I tensorflow/compiler/xla/stream_executor/cuda/cuda_gpu_executor.cc:982] could not open file to read NUMA node: /sys/bus/pci/devices/0000:01:00.0/numa_node\n",
      "Your kernel may have been built without NUMA support.\n",
      "2023-06-06 23:56:51.458130: I tensorflow/compiler/xla/stream_executor/cuda/cuda_gpu_executor.cc:982] could not open file to read NUMA node: /sys/bus/pci/devices/0000:01:00.0/numa_node\n",
      "Your kernel may have been built without NUMA support.\n",
      "2023-06-06 23:56:51.458210: I tensorflow/compiler/xla/stream_executor/cuda/cuda_gpu_executor.cc:982] could not open file to read NUMA node: /sys/bus/pci/devices/0000:01:00.0/numa_node\n",
      "Your kernel may have been built without NUMA support.\n",
      "2023-06-06 23:56:51.458248: I tensorflow/compiler/xla/stream_executor/cuda/cuda_gpu_executor.cc:982] could not open file to read NUMA node: /sys/bus/pci/devices/0000:01:00.0/numa_node\n",
      "Your kernel may have been built without NUMA support.\n",
      "2023-06-06 23:56:53.012019: I tensorflow/compiler/xla/stream_executor/cuda/cuda_gpu_executor.cc:982] could not open file to read NUMA node: /sys/bus/pci/devices/0000:01:00.0/numa_node\n",
      "Your kernel may have been built without NUMA support.\n",
      "2023-06-06 23:56:53.012105: I tensorflow/compiler/xla/stream_executor/cuda/cuda_gpu_executor.cc:982] could not open file to read NUMA node: /sys/bus/pci/devices/0000:01:00.0/numa_node\n",
      "Your kernel may have been built without NUMA support.\n",
      "2023-06-06 23:56:53.012114: I tensorflow/core/common_runtime/gpu/gpu_device.cc:1722] Could not identify NUMA node of platform GPU id 0, defaulting to 0.  Your kernel may not have been built with NUMA support.\n",
      "2023-06-06 23:56:53.012157: I tensorflow/compiler/xla/stream_executor/cuda/cuda_gpu_executor.cc:982] could not open file to read NUMA node: /sys/bus/pci/devices/0000:01:00.0/numa_node\n",
      "Your kernel may have been built without NUMA support.\n",
      "2023-06-06 23:56:53.012190: I tensorflow/core/common_runtime/gpu/gpu_device.cc:1635] Created device /job:localhost/replica:0/task:0/device:GPU:0 with 3383 MB memory:  -> device: 0, name: NVIDIA GeForce RTX 3060 Laptop GPU, pci bus id: 0000:01:00.0, compute capability: 8.6\n"
     ]
    }
   ],
   "source": [
    "model = tf.keras.Sequential([\n",
    "    tf.keras.layers.Flatten(input_shape=(28, 28)),\n",
    "    tf.keras.layers.Dense(300, activation='relu'),\n",
    "    tf.keras.layers.Dense(100, activation='relu'),\n",
    "    tf.keras.layers.Dense(10, activation='softmax')\n",
    "])\n",
    "optimizer = tf.keras.optimizers.Adam(learning_rate=1e-3)\n",
    "model.compile(\n",
    "    optimizer=optimizer,\n",
    "    loss=tf.keras.losses.sparse_categorical_crossentropy,\n",
    "    metrics=['accuracy']\n",
    ")"
   ],
   "metadata": {
    "collapsed": false,
    "ExecuteTime": {
     "end_time": "2023-06-06T21:56:53.367092700Z",
     "start_time": "2023-06-06T21:56:51.102866800Z"
    }
   }
  },
  {
   "cell_type": "code",
   "execution_count": 5,
   "outputs": [
    {
     "name": "stdout",
     "output_type": "stream",
     "text": [
      "Epoch 1/20\n"
     ]
    },
    {
     "name": "stderr",
     "output_type": "stream",
     "text": [
      "2023-06-06 23:57:09.751123: I tensorflow/compiler/xla/stream_executor/cuda/cuda_blas.cc:637] TensorFloat-32 will be used for the matrix multiplication. This will only be logged once.\n",
      "2023-06-06 23:57:09.775899: I tensorflow/compiler/xla/service/service.cc:169] XLA service 0x7f64580329c0 initialized for platform CUDA (this does not guarantee that XLA will be used). Devices:\n",
      "2023-06-06 23:57:09.775933: I tensorflow/compiler/xla/service/service.cc:177]   StreamExecutor device (0): NVIDIA GeForce RTX 3060 Laptop GPU, Compute Capability 8.6\n",
      "2023-06-06 23:57:09.803134: I tensorflow/compiler/mlir/tensorflow/utils/dump_mlir_util.cc:269] disabling MLIR crash reproducer, set env var `MLIR_CRASH_REPRODUCER_DIRECTORY` to enable.\n",
      "2023-06-06 23:57:12.019724: I tensorflow/compiler/xla/stream_executor/cuda/cuda_dnn.cc:424] Loaded cuDNN version 8902\n",
      "2023-06-06 23:57:12.187769: I tensorflow/tsl/platform/default/subprocess.cc:304] Start cannot spawn child process: No such file or directory\n",
      "2023-06-06 23:57:12.277929: I ./tensorflow/compiler/jit/device_compiler.h:180] Compiled cluster using XLA!  This line is logged at most once for the lifetime of the process.\n"
     ]
    },
    {
     "name": "stdout",
     "output_type": "stream",
     "text": [
      "1688/1688 [==============================] - 11s 3ms/step - loss: 1.3581 - accuracy: 0.8544 - val_loss: 0.2781 - val_accuracy: 0.9242\n",
      "Epoch 2/20\n",
      "1688/1688 [==============================] - 6s 3ms/step - loss: 0.2919 - accuracy: 0.9220 - val_loss: 0.1937 - val_accuracy: 0.9490\n",
      "Epoch 3/20\n",
      "1688/1688 [==============================] - 5s 3ms/step - loss: 0.2143 - accuracy: 0.9421 - val_loss: 0.1924 - val_accuracy: 0.9502\n",
      "Epoch 4/20\n",
      "1688/1688 [==============================] - 5s 3ms/step - loss: 0.1743 - accuracy: 0.9532 - val_loss: 0.1572 - val_accuracy: 0.9570\n",
      "Epoch 5/20\n",
      "1688/1688 [==============================] - 5s 3ms/step - loss: 0.1443 - accuracy: 0.9603 - val_loss: 0.1663 - val_accuracy: 0.9605\n",
      "Epoch 6/20\n",
      "1688/1688 [==============================] - 5s 3ms/step - loss: 0.1254 - accuracy: 0.9659 - val_loss: 0.1273 - val_accuracy: 0.9648\n",
      "Epoch 7/20\n",
      "1688/1688 [==============================] - 5s 3ms/step - loss: 0.1109 - accuracy: 0.9707 - val_loss: 0.1475 - val_accuracy: 0.9605\n",
      "Epoch 8/20\n",
      "1688/1688 [==============================] - 5s 3ms/step - loss: 0.1083 - accuracy: 0.9714 - val_loss: 0.1388 - val_accuracy: 0.9687\n",
      "Epoch 9/20\n",
      "1688/1688 [==============================] - 5s 3ms/step - loss: 0.0883 - accuracy: 0.9756 - val_loss: 0.1685 - val_accuracy: 0.9688\n",
      "Epoch 10/20\n",
      "1688/1688 [==============================] - 5s 3ms/step - loss: 0.0901 - accuracy: 0.9771 - val_loss: 0.1308 - val_accuracy: 0.9710\n",
      "Epoch 11/20\n",
      "1688/1688 [==============================] - 6s 3ms/step - loss: 0.0817 - accuracy: 0.9790 - val_loss: 0.1898 - val_accuracy: 0.9660\n",
      "Epoch 12/20\n",
      "1688/1688 [==============================] - 6s 3ms/step - loss: 0.0803 - accuracy: 0.9800 - val_loss: 0.1417 - val_accuracy: 0.9713\n",
      "Epoch 13/20\n",
      "1688/1688 [==============================] - 5s 3ms/step - loss: 0.0820 - accuracy: 0.9804 - val_loss: 0.1573 - val_accuracy: 0.9713\n",
      "Epoch 14/20\n",
      "1688/1688 [==============================] - 6s 4ms/step - loss: 0.0721 - accuracy: 0.9818 - val_loss: 0.1884 - val_accuracy: 0.9688\n",
      "Epoch 15/20\n",
      "1688/1688 [==============================] - 5s 3ms/step - loss: 0.0701 - accuracy: 0.9820 - val_loss: 0.1753 - val_accuracy: 0.9717\n",
      "Epoch 16/20\n",
      "1688/1688 [==============================] - 5s 3ms/step - loss: 0.0704 - accuracy: 0.9830 - val_loss: 0.1459 - val_accuracy: 0.9737\n",
      "Epoch 17/20\n",
      "1688/1688 [==============================] - 6s 3ms/step - loss: 0.0675 - accuracy: 0.9846 - val_loss: 0.1923 - val_accuracy: 0.9698\n",
      "Epoch 18/20\n",
      "1688/1688 [==============================] - 6s 3ms/step - loss: 0.0624 - accuracy: 0.9860 - val_loss: 0.1952 - val_accuracy: 0.9688\n",
      "Epoch 19/20\n",
      "1688/1688 [==============================] - 5s 3ms/step - loss: 0.0640 - accuracy: 0.9857 - val_loss: 0.1735 - val_accuracy: 0.9735\n",
      "Epoch 20/20\n",
      "1688/1688 [==============================] - 5s 3ms/step - loss: 0.0592 - accuracy: 0.9865 - val_loss: 0.1732 - val_accuracy: 0.9745\n"
     ]
    }
   ],
   "source": [
    "hist = model.fit(\n",
    "    x_train,\n",
    "    y_train,\n",
    "    epochs=20,\n",
    "    validation_split=0.1\n",
    ")"
   ],
   "metadata": {
    "collapsed": false,
    "ExecuteTime": {
     "end_time": "2023-06-06T21:59:01.886905Z",
     "start_time": "2023-06-06T21:57:07.698317800Z"
    }
   }
  },
  {
   "cell_type": "code",
   "execution_count": 6,
   "outputs": [
    {
     "name": "stdout",
     "output_type": "stream",
     "text": [
      "Model: \"sequential\"\n",
      "_________________________________________________________________\n",
      " Layer (type)                Output Shape              Param #   \n",
      "=================================================================\n",
      " flatten (Flatten)           (None, 784)               0         \n",
      "                                                                 \n",
      " dense (Dense)               (None, 300)               235500    \n",
      "                                                                 \n",
      " dense_1 (Dense)             (None, 100)               30100     \n",
      "                                                                 \n",
      " dense_2 (Dense)             (None, 10)                1010      \n",
      "                                                                 \n",
      "=================================================================\n",
      "Total params: 266,610\n",
      "Trainable params: 266,610\n",
      "Non-trainable params: 0\n",
      "_________________________________________________________________\n"
     ]
    }
   ],
   "source": [
    "model.summary()"
   ],
   "metadata": {
    "collapsed": false,
    "ExecuteTime": {
     "end_time": "2023-06-06T22:05:30.144405900Z",
     "start_time": "2023-06-06T22:05:30.087401700Z"
    }
   }
  }
 ],
 "metadata": {
  "kernelspec": {
   "display_name": "Python 3",
   "language": "python",
   "name": "python3"
  },
  "language_info": {
   "codemirror_mode": {
    "name": "ipython",
    "version": 2
   },
   "file_extension": ".py",
   "mimetype": "text/x-python",
   "name": "python",
   "nbconvert_exporter": "python",
   "pygments_lexer": "ipython2",
   "version": "2.7.6"
  }
 },
 "nbformat": 4,
 "nbformat_minor": 0
}
