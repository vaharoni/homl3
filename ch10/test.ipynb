{
 "cells": [
  {
   "cell_type": "code",
   "execution_count": 1,
   "metadata": {
    "collapsed": true,
    "ExecuteTime": {
     "end_time": "2023-06-06T21:34:26.552249Z",
     "start_time": "2023-06-06T21:34:19.251822Z"
    }
   },
   "outputs": [],
   "source": [
    "import numpy as np\n",
    "import pandas as pd\n",
    "import tensorflow as tf"
   ]
  },
  {
   "cell_type": "code",
   "execution_count": 6,
   "outputs": [
    {
     "data": {
      "text/plain": "[PhysicalDevice(name='/physical_device:CPU:0', device_type='CPU'),\n PhysicalDevice(name='/physical_device:GPU:0', device_type='GPU')]"
     },
     "execution_count": 6,
     "metadata": {},
     "output_type": "execute_result"
    }
   ],
   "source": [
    "tf.config.list_physical_devices()"
   ],
   "metadata": {
    "collapsed": false,
    "ExecuteTime": {
     "end_time": "2023-06-06T21:36:42.410416Z",
     "start_time": "2023-06-06T21:36:42.408760Z"
    }
   }
  },
  {
   "cell_type": "code",
   "execution_count": 2,
   "outputs": [
    {
     "name": "stdout",
     "output_type": "stream",
     "text": [
      "Downloading data from https://storage.googleapis.com/tensorflow/tf-keras-datasets/mnist.npz\n",
      "11490434/11490434 [==============================] - 2s 0us/step\n"
     ]
    }
   ],
   "source": [
    "(x_train, y_train), (x_test, y_test) = tf.keras.datasets.mnist.load_data()"
   ],
   "metadata": {
    "collapsed": false,
    "ExecuteTime": {
     "end_time": "2023-06-06T21:34:31.754314Z",
     "start_time": "2023-06-06T21:34:28.542834Z"
    }
   }
  },
  {
   "cell_type": "code",
   "execution_count": 7,
   "outputs": [],
   "source": [
    "model = tf.keras.Sequential([\n",
    "    tf.keras.layers.Flatten(input_shape=(28, 28)),\n",
    "    tf.keras.layers.Dense(300, activation='relu'),\n",
    "    tf.keras.layers.Dense(100, activation='relu'),\n",
    "    tf.keras.layers.Dense(10, activation='softmax')\n",
    "])\n",
    "optimizer = tf.keras.optimizers.legacy.Adam(learning_rate=1e-3)\n",
    "model.compile(\n",
    "    optimizer=optimizer,\n",
    "    loss=tf.keras.losses.sparse_categorical_crossentropy,\n",
    "    metrics=['accuracy']\n",
    ")"
   ],
   "metadata": {
    "collapsed": false,
    "ExecuteTime": {
     "end_time": "2023-06-06T21:49:09.894749Z",
     "start_time": "2023-06-06T21:49:09.839543Z"
    }
   }
  },
  {
   "cell_type": "code",
   "execution_count": 8,
   "outputs": [
    {
     "name": "stdout",
     "output_type": "stream",
     "text": [
      "Epoch 1/20\n",
      "1688/1688 [==============================] - 13s 8ms/step - loss: 1.2997 - accuracy: 0.8415 - val_loss: 0.3258 - val_accuracy: 0.9198\n",
      "Epoch 2/20\n",
      "1688/1688 [==============================] - 10s 6ms/step - loss: 0.2714 - accuracy: 0.9278 - val_loss: 0.1893 - val_accuracy: 0.9488\n",
      "Epoch 3/20\n",
      "1688/1688 [==============================] - 11s 7ms/step - loss: 0.1925 - accuracy: 0.9487 - val_loss: 0.1727 - val_accuracy: 0.9550\n",
      "Epoch 4/20\n",
      "1688/1688 [==============================] - 11s 6ms/step - loss: 0.1608 - accuracy: 0.9576 - val_loss: 0.1357 - val_accuracy: 0.9645\n",
      "Epoch 5/20\n",
      "1688/1688 [==============================] - 11s 6ms/step - loss: 0.1399 - accuracy: 0.9633 - val_loss: 0.1223 - val_accuracy: 0.9707\n",
      "Epoch 6/20\n",
      "1688/1688 [==============================] - 11s 7ms/step - loss: 0.1252 - accuracy: 0.9674 - val_loss: 0.1345 - val_accuracy: 0.9697\n",
      "Epoch 7/20\n",
      "1688/1688 [==============================] - 11s 6ms/step - loss: 0.1181 - accuracy: 0.9706 - val_loss: 0.1454 - val_accuracy: 0.9673\n",
      "Epoch 8/20\n",
      "1688/1688 [==============================] - 11s 6ms/step - loss: 0.1006 - accuracy: 0.9747 - val_loss: 0.1308 - val_accuracy: 0.9723\n",
      "Epoch 9/20\n",
      "1688/1688 [==============================] - 11s 7ms/step - loss: 0.0909 - accuracy: 0.9771 - val_loss: 0.1146 - val_accuracy: 0.9733\n",
      "Epoch 10/20\n",
      "1688/1688 [==============================] - 12s 7ms/step - loss: 0.0924 - accuracy: 0.9779 - val_loss: 0.1668 - val_accuracy: 0.9680\n",
      "Epoch 11/20\n",
      "1688/1688 [==============================] - 11s 6ms/step - loss: 0.0743 - accuracy: 0.9814 - val_loss: 0.1217 - val_accuracy: 0.9728\n",
      "Epoch 12/20\n",
      "1688/1688 [==============================] - 11s 6ms/step - loss: 0.0786 - accuracy: 0.9816 - val_loss: 0.1472 - val_accuracy: 0.9730\n",
      "Epoch 13/20\n",
      "1688/1688 [==============================] - 11s 7ms/step - loss: 0.0746 - accuracy: 0.9830 - val_loss: 0.1353 - val_accuracy: 0.9757\n",
      "Epoch 14/20\n",
      "1688/1688 [==============================] - 11s 7ms/step - loss: 0.0682 - accuracy: 0.9834 - val_loss: 0.1351 - val_accuracy: 0.9768\n",
      "Epoch 15/20\n",
      "1688/1688 [==============================] - 11s 7ms/step - loss: 0.0674 - accuracy: 0.9849 - val_loss: 0.1297 - val_accuracy: 0.9763\n",
      "Epoch 16/20\n",
      "1688/1688 [==============================] - 11s 7ms/step - loss: 0.0683 - accuracy: 0.9839 - val_loss: 0.1680 - val_accuracy: 0.9738\n",
      "Epoch 17/20\n",
      "1688/1688 [==============================] - 11s 6ms/step - loss: 0.0607 - accuracy: 0.9855 - val_loss: 0.1723 - val_accuracy: 0.9755\n",
      "Epoch 18/20\n",
      "1688/1688 [==============================] - 11s 7ms/step - loss: 0.0651 - accuracy: 0.9854 - val_loss: 0.1842 - val_accuracy: 0.9715\n",
      "Epoch 19/20\n",
      "1688/1688 [==============================] - 12s 7ms/step - loss: 0.0650 - accuracy: 0.9856 - val_loss: 0.1741 - val_accuracy: 0.9687\n",
      "Epoch 20/20\n",
      "1688/1688 [==============================] - 14s 8ms/step - loss: 0.0574 - accuracy: 0.9866 - val_loss: 0.2044 - val_accuracy: 0.9725\n"
     ]
    }
   ],
   "source": [
    "hist = model.fit(\n",
    "    x_train,\n",
    "    y_train,\n",
    "    epochs=20,\n",
    "    validation_split=0.1\n",
    ")"
   ],
   "metadata": {
    "collapsed": false,
    "ExecuteTime": {
     "end_time": "2023-06-06T21:52:59.009068Z",
     "start_time": "2023-06-06T21:49:12.398802Z"
    }
   }
  }
 ],
 "metadata": {
  "kernelspec": {
   "display_name": "Python 3",
   "language": "python",
   "name": "python3"
  },
  "language_info": {
   "codemirror_mode": {
    "name": "ipython",
    "version": 2
   },
   "file_extension": ".py",
   "mimetype": "text/x-python",
   "name": "python",
   "nbconvert_exporter": "python",
   "pygments_lexer": "ipython2",
   "version": "2.7.6"
  }
 },
 "nbformat": 4,
 "nbformat_minor": 0
}
