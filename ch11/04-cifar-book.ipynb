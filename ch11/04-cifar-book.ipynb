{
 "cells": [
  {
   "cell_type": "code",
   "execution_count": 1,
   "metadata": {
    "ExecuteTime": {
     "end_time": "2023-06-10T15:23:27.478282900Z",
     "start_time": "2023-06-10T15:23:10.891535300Z"
    }
   },
   "outputs": [
    {
     "name": "stderr",
     "output_type": "stream",
     "text": [
      "2023-06-10 17:23:11.164077: I tensorflow/core/platform/cpu_feature_guard.cc:182] This TensorFlow binary is optimized to use available CPU instructions in performance-critical operations.\n",
      "To enable the following instructions: AVX2 FMA, in other operations, rebuild TensorFlow with the appropriate compiler flags.\n"
     ]
    }
   ],
   "source": [
    "import os\n",
    "os.environ[\"CUDA_VISIBLE_DEVICES\"] = \"-1\"\n",
    "import tensorrt\n",
    "import tensorflow as tf\n",
    "from pathlib import Path"
   ]
  },
  {
   "cell_type": "code",
   "execution_count": 3,
   "outputs": [
    {
     "name": "stderr",
     "output_type": "stream",
     "text": [
      "2023-06-10 17:23:32.623990: E tensorflow/compiler/xla/stream_executor/cuda/cuda_driver.cc:266] failed call to cuInit: CUDA_ERROR_NO_DEVICE: no CUDA-capable device is detected\n"
     ]
    },
    {
     "data": {
      "text/plain": "[PhysicalDevice(name='/physical_device:CPU:0', device_type='CPU')]"
     },
     "execution_count": 3,
     "metadata": {},
     "output_type": "execute_result"
    }
   ],
   "source": [
    "tf.config.list_physical_devices()"
   ],
   "metadata": {
    "collapsed": false,
    "ExecuteTime": {
     "end_time": "2023-06-10T15:23:32.704135200Z",
     "start_time": "2023-06-10T15:23:32.626705400Z"
    }
   }
  },
  {
   "cell_type": "code",
   "execution_count": 4,
   "metadata": {
    "ExecuteTime": {
     "end_time": "2023-06-10T15:23:39.892975700Z",
     "start_time": "2023-06-10T15:23:39.589011700Z"
    }
   },
   "outputs": [],
   "source": [
    "cifar10 = tf.keras.datasets.cifar10.load_data()\n",
    "(X_train_full, y_train_full), (X_test, y_test) = cifar10\n",
    "\n",
    "X_train = X_train_full[5000:]\n",
    "y_train = y_train_full[5000:]\n",
    "X_valid = X_train_full[:5000]\n",
    "y_valid = y_train_full[:5000]"
   ]
  },
  {
   "cell_type": "code",
   "execution_count": 5,
   "metadata": {
    "ExecuteTime": {
     "end_time": "2023-06-10T15:37:16.614043900Z",
     "start_time": "2023-06-10T15:23:43.007775Z"
    }
   },
   "outputs": [
    {
     "name": "stdout",
     "output_type": "stream",
     "text": [
      "Epoch 1/100\n",
      "1407/1407 [==============================] - ETA: 0s - loss: 2.0571 - accuracy: 0.2514"
     ]
    },
    {
     "name": "stderr",
     "output_type": "stream",
     "text": [
      "WARNING:absl:Found untraced functions such as _update_step_xla while saving (showing 1 of 1). These functions will not be directly callable after loading.\n"
     ]
    },
    {
     "name": "stdout",
     "output_type": "stream",
     "text": [
      "INFO:tensorflow:Assets written to: my_cifar10_bn_model/assets\n"
     ]
    },
    {
     "name": "stderr",
     "output_type": "stream",
     "text": [
      "INFO:tensorflow:Assets written to: my_cifar10_bn_model/assets\n"
     ]
    },
    {
     "name": "stdout",
     "output_type": "stream",
     "text": [
      "1407/1407 [==============================] - 35s 18ms/step - loss: 2.0571 - accuracy: 0.2514 - val_loss: 2.0840 - val_accuracy: 0.2550\n",
      "Epoch 2/100\n",
      "1407/1407 [==============================] - 19s 14ms/step - loss: 1.7934 - accuracy: 0.3581 - val_loss: 2.2973 - val_accuracy: 0.2450\n",
      "Epoch 3/100\n",
      "1406/1407 [============================>.] - ETA: 0s - loss: 1.6861 - accuracy: 0.3976"
     ]
    },
    {
     "name": "stderr",
     "output_type": "stream",
     "text": [
      "WARNING:absl:Found untraced functions such as _update_step_xla while saving (showing 1 of 1). These functions will not be directly callable after loading.\n"
     ]
    },
    {
     "name": "stdout",
     "output_type": "stream",
     "text": [
      "INFO:tensorflow:Assets written to: my_cifar10_bn_model/assets\n"
     ]
    },
    {
     "name": "stderr",
     "output_type": "stream",
     "text": [
      "INFO:tensorflow:Assets written to: my_cifar10_bn_model/assets\n"
     ]
    },
    {
     "name": "stdout",
     "output_type": "stream",
     "text": [
      "1407/1407 [==============================] - 27s 19ms/step - loss: 1.6861 - accuracy: 0.3976 - val_loss: 1.7801 - val_accuracy: 0.3764\n",
      "Epoch 4/100\n",
      "1405/1407 [============================>.] - ETA: 0s - loss: 1.6260 - accuracy: 0.4211"
     ]
    },
    {
     "name": "stderr",
     "output_type": "stream",
     "text": [
      "WARNING:absl:Found untraced functions such as _update_step_xla while saving (showing 1 of 1). These functions will not be directly callable after loading.\n"
     ]
    },
    {
     "name": "stdout",
     "output_type": "stream",
     "text": [
      "INFO:tensorflow:Assets written to: my_cifar10_bn_model/assets\n"
     ]
    },
    {
     "name": "stderr",
     "output_type": "stream",
     "text": [
      "INFO:tensorflow:Assets written to: my_cifar10_bn_model/assets\n"
     ]
    },
    {
     "name": "stdout",
     "output_type": "stream",
     "text": [
      "1407/1407 [==============================] - 27s 19ms/step - loss: 1.6262 - accuracy: 0.4210 - val_loss: 1.7114 - val_accuracy: 0.3766\n",
      "Epoch 5/100\n",
      "1407/1407 [==============================] - 19s 14ms/step - loss: 1.5645 - accuracy: 0.4438 - val_loss: 1.7781 - val_accuracy: 0.3724\n",
      "Epoch 6/100\n",
      "1406/1407 [============================>.] - ETA: 0s - loss: 1.5161 - accuracy: 0.4601"
     ]
    },
    {
     "name": "stderr",
     "output_type": "stream",
     "text": [
      "WARNING:absl:Found untraced functions such as _update_step_xla while saving (showing 1 of 1). These functions will not be directly callable after loading.\n"
     ]
    },
    {
     "name": "stdout",
     "output_type": "stream",
     "text": [
      "INFO:tensorflow:Assets written to: my_cifar10_bn_model/assets\n"
     ]
    },
    {
     "name": "stderr",
     "output_type": "stream",
     "text": [
      "INFO:tensorflow:Assets written to: my_cifar10_bn_model/assets\n"
     ]
    },
    {
     "name": "stdout",
     "output_type": "stream",
     "text": [
      "1407/1407 [==============================] - 26s 18ms/step - loss: 1.5160 - accuracy: 0.4601 - val_loss: 1.6109 - val_accuracy: 0.4226\n",
      "Epoch 7/100\n",
      "1407/1407 [==============================] - 19s 13ms/step - loss: 1.4694 - accuracy: 0.4786 - val_loss: 1.8315 - val_accuracy: 0.3690\n",
      "Epoch 8/100\n",
      "1405/1407 [============================>.] - ETA: 0s - loss: 1.4287 - accuracy: 0.4933"
     ]
    },
    {
     "name": "stderr",
     "output_type": "stream",
     "text": [
      "WARNING:absl:Found untraced functions such as _update_step_xla while saving (showing 1 of 1). These functions will not be directly callable after loading.\n"
     ]
    },
    {
     "name": "stdout",
     "output_type": "stream",
     "text": [
      "INFO:tensorflow:Assets written to: my_cifar10_bn_model/assets\n"
     ]
    },
    {
     "name": "stderr",
     "output_type": "stream",
     "text": [
      "INFO:tensorflow:Assets written to: my_cifar10_bn_model/assets\n"
     ]
    },
    {
     "name": "stdout",
     "output_type": "stream",
     "text": [
      "1407/1407 [==============================] - 27s 19ms/step - loss: 1.4287 - accuracy: 0.4933 - val_loss: 1.5952 - val_accuracy: 0.4398\n",
      "Epoch 9/100\n",
      "1404/1407 [============================>.] - ETA: 0s - loss: 1.3974 - accuracy: 0.5061"
     ]
    },
    {
     "name": "stderr",
     "output_type": "stream",
     "text": [
      "WARNING:absl:Found untraced functions such as _update_step_xla while saving (showing 1 of 1). These functions will not be directly callable after loading.\n"
     ]
    },
    {
     "name": "stdout",
     "output_type": "stream",
     "text": [
      "INFO:tensorflow:Assets written to: my_cifar10_bn_model/assets\n"
     ]
    },
    {
     "name": "stderr",
     "output_type": "stream",
     "text": [
      "INFO:tensorflow:Assets written to: my_cifar10_bn_model/assets\n"
     ]
    },
    {
     "name": "stdout",
     "output_type": "stream",
     "text": [
      "1407/1407 [==============================] - 26s 18ms/step - loss: 1.3972 - accuracy: 0.5060 - val_loss: 1.4980 - val_accuracy: 0.4700\n",
      "Epoch 10/100\n",
      "1407/1407 [==============================] - 19s 14ms/step - loss: 1.3648 - accuracy: 0.5156 - val_loss: 1.6268 - val_accuracy: 0.4224\n",
      "Epoch 11/100\n",
      "1407/1407 [==============================] - 19s 13ms/step - loss: 1.3399 - accuracy: 0.5242 - val_loss: 1.5600 - val_accuracy: 0.4552\n",
      "Epoch 12/100\n",
      "1407/1407 [==============================] - 19s 13ms/step - loss: 1.3063 - accuracy: 0.5378 - val_loss: 1.5927 - val_accuracy: 0.4418\n",
      "Epoch 13/100\n",
      "1407/1407 [==============================] - 19s 13ms/step - loss: 1.2812 - accuracy: 0.5450 - val_loss: 1.5089 - val_accuracy: 0.4804\n",
      "Epoch 14/100\n",
      "1407/1407 [==============================] - 19s 14ms/step - loss: 1.2577 - accuracy: 0.5544 - val_loss: 1.5159 - val_accuracy: 0.4692\n",
      "Epoch 15/100\n",
      "1407/1407 [==============================] - 17s 12ms/step - loss: 1.2333 - accuracy: 0.5635 - val_loss: 1.5075 - val_accuracy: 0.4778\n",
      "Epoch 16/100\n",
      "1407/1407 [==============================] - 17s 12ms/step - loss: 1.2167 - accuracy: 0.5681 - val_loss: 1.4996 - val_accuracy: 0.4760\n",
      "Epoch 17/100\n",
      "1407/1407 [==============================] - 19s 14ms/step - loss: 1.1988 - accuracy: 0.5751 - val_loss: 1.4983 - val_accuracy: 0.4890\n",
      "Epoch 18/100\n",
      "1407/1407 [==============================] - 18s 13ms/step - loss: 1.1768 - accuracy: 0.5856 - val_loss: 1.6206 - val_accuracy: 0.4502\n",
      "Epoch 19/100\n",
      "1407/1407 [==============================] - 18s 13ms/step - loss: 1.1570 - accuracy: 0.5920 - val_loss: 1.6178 - val_accuracy: 0.4536\n",
      "Epoch 20/100\n",
      "1407/1407 [==============================] - 19s 14ms/step - loss: 1.1404 - accuracy: 0.5990 - val_loss: 1.5661 - val_accuracy: 0.4556\n",
      "Epoch 21/100\n",
      "1407/1407 [==============================] - 20s 14ms/step - loss: 1.1244 - accuracy: 0.6038 - val_loss: 1.5891 - val_accuracy: 0.4672\n",
      "Epoch 22/100\n",
      "1405/1407 [============================>.] - ETA: 0s - loss: 1.1079 - accuracy: 0.6082"
     ]
    },
    {
     "name": "stderr",
     "output_type": "stream",
     "text": [
      "WARNING:absl:Found untraced functions such as _update_step_xla while saving (showing 1 of 1). These functions will not be directly callable after loading.\n"
     ]
    },
    {
     "name": "stdout",
     "output_type": "stream",
     "text": [
      "INFO:tensorflow:Assets written to: my_cifar10_bn_model/assets\n"
     ]
    },
    {
     "name": "stderr",
     "output_type": "stream",
     "text": [
      "INFO:tensorflow:Assets written to: my_cifar10_bn_model/assets\n"
     ]
    },
    {
     "name": "stdout",
     "output_type": "stream",
     "text": [
      "1407/1407 [==============================] - 27s 19ms/step - loss: 1.1081 - accuracy: 0.6082 - val_loss: 1.4482 - val_accuracy: 0.5038\n",
      "Epoch 23/100\n",
      "1407/1407 [==============================] - 20s 14ms/step - loss: 1.0928 - accuracy: 0.6157 - val_loss: 1.4814 - val_accuracy: 0.4988\n",
      "Epoch 24/100\n",
      "1407/1407 [==============================] - 19s 14ms/step - loss: 1.0725 - accuracy: 0.6222 - val_loss: 1.5115 - val_accuracy: 0.4950\n",
      "Epoch 25/100\n",
      "1407/1407 [==============================] - 18s 13ms/step - loss: 1.0607 - accuracy: 0.6242 - val_loss: 1.5644 - val_accuracy: 0.4742\n",
      "Epoch 26/100\n",
      "1407/1407 [==============================] - 17s 12ms/step - loss: 1.0486 - accuracy: 0.6300 - val_loss: 1.4981 - val_accuracy: 0.4916\n",
      "Epoch 27/100\n",
      "1407/1407 [==============================] - 17s 12ms/step - loss: 1.0360 - accuracy: 0.6351 - val_loss: 1.5945 - val_accuracy: 0.4628\n",
      "Epoch 28/100\n",
      "1407/1407 [==============================] - 17s 12ms/step - loss: 1.0247 - accuracy: 0.6380 - val_loss: 1.5426 - val_accuracy: 0.4894\n",
      "Epoch 29/100\n",
      "1407/1407 [==============================] - 17s 12ms/step - loss: 1.0169 - accuracy: 0.6407 - val_loss: 1.5439 - val_accuracy: 0.4920\n",
      "Epoch 30/100\n",
      "1407/1407 [==============================] - 19s 13ms/step - loss: 0.9977 - accuracy: 0.6478 - val_loss: 1.6155 - val_accuracy: 0.4754\n",
      "Epoch 31/100\n",
      "1407/1407 [==============================] - 18s 13ms/step - loss: 0.9919 - accuracy: 0.6492 - val_loss: 1.5815 - val_accuracy: 0.4792\n",
      "Epoch 32/100\n",
      "1407/1407 [==============================] - 18s 13ms/step - loss: 0.9732 - accuracy: 0.6568 - val_loss: 1.6585 - val_accuracy: 0.4592\n",
      "Epoch 33/100\n",
      "1407/1407 [==============================] - 19s 13ms/step - loss: 0.9643 - accuracy: 0.6579 - val_loss: 1.5546 - val_accuracy: 0.4974\n",
      "Epoch 34/100\n",
      "1407/1407 [==============================] - 19s 13ms/step - loss: 0.9618 - accuracy: 0.6615 - val_loss: 1.4862 - val_accuracy: 0.5020\n",
      "Epoch 35/100\n",
      "1407/1407 [==============================] - 18s 13ms/step - loss: 0.9446 - accuracy: 0.6672 - val_loss: 1.5270 - val_accuracy: 0.5008\n",
      "Epoch 36/100\n",
      "1407/1407 [==============================] - 17s 12ms/step - loss: 0.9351 - accuracy: 0.6699 - val_loss: 1.5483 - val_accuracy: 0.5006\n",
      "Epoch 37/100\n",
      "1407/1407 [==============================] - 14s 10ms/step - loss: 0.9156 - accuracy: 0.6755 - val_loss: 1.5806 - val_accuracy: 0.4916\n",
      "Epoch 38/100\n",
      "1407/1407 [==============================] - 14s 10ms/step - loss: 0.9170 - accuracy: 0.6774 - val_loss: 1.5912 - val_accuracy: 0.4836\n",
      "Epoch 39/100\n",
      "1407/1407 [==============================] - 14s 10ms/step - loss: 0.9028 - accuracy: 0.6803 - val_loss: 1.7311 - val_accuracy: 0.4774\n",
      "Epoch 40/100\n",
      "1407/1407 [==============================] - 14s 10ms/step - loss: 0.8928 - accuracy: 0.6844 - val_loss: 1.8188 - val_accuracy: 0.4470\n",
      "Epoch 41/100\n",
      "1407/1407 [==============================] - 13s 10ms/step - loss: 0.8866 - accuracy: 0.6862 - val_loss: 1.5512 - val_accuracy: 0.5042\n",
      "Epoch 42/100\n",
      "1407/1407 [==============================] - 13s 10ms/step - loss: 0.8763 - accuracy: 0.6925 - val_loss: 1.6417 - val_accuracy: 0.4726\n",
      "157/157 [==============================] - 0s 2ms/step - loss: 1.4482 - accuracy: 0.5038\n"
     ]
    },
    {
     "data": {
      "text/plain": "[1.448202133178711, 0.5037999749183655]"
     },
     "execution_count": 5,
     "metadata": {},
     "output_type": "execute_result"
    }
   ],
   "source": [
    "tf.random.set_seed(42)\n",
    "\n",
    "model = tf.keras.Sequential()\n",
    "model.add(tf.keras.layers.Flatten(input_shape=[32, 32, 3]))\n",
    "for _ in range(20):\n",
    "    model.add(tf.keras.layers.Dense(100, kernel_initializer=\"he_normal\"))\n",
    "    model.add(tf.keras.layers.BatchNormalization())\n",
    "    model.add(tf.keras.layers.Activation(\"swish\"))\n",
    "\n",
    "model.add(tf.keras.layers.Dense(10, activation=\"softmax\"))\n",
    "\n",
    "optimizer = tf.keras.optimizers.Nadam(learning_rate=5e-4)\n",
    "model.compile(loss=\"sparse_categorical_crossentropy\",\n",
    "              optimizer=optimizer,\n",
    "              metrics=[\"accuracy\"])\n",
    "\n",
    "early_stopping_cb = tf.keras.callbacks.EarlyStopping(patience=20,\n",
    "                                                     restore_best_weights=True)\n",
    "model_checkpoint_cb = tf.keras.callbacks.ModelCheckpoint(\"my_cifar10_bn_model\",\n",
    "                                                         save_best_only=True)\n",
    "run_index = 1 # increment every time you train the model\n",
    "run_logdir = Path() / \"my_cifar10_logs\" / f\"run_bn_{run_index:03d}\"\n",
    "tensorboard_cb = tf.keras.callbacks.TensorBoard(run_logdir)\n",
    "callbacks = [early_stopping_cb, model_checkpoint_cb, tensorboard_cb]\n",
    "\n",
    "model.fit(X_train, y_train, epochs=100,\n",
    "          validation_data=(X_valid, y_valid),\n",
    "          callbacks=callbacks)\n",
    "\n",
    "model.evaluate(X_valid, y_valid)"
   ]
  },
  {
   "cell_type": "code",
   "execution_count": null,
   "metadata": {},
   "outputs": [],
   "source": []
  }
 ],
 "metadata": {
  "kernelspec": {
   "display_name": "Python 3 (ipykernel)",
   "language": "python",
   "name": "python3"
  },
  "language_info": {
   "codemirror_mode": {
    "name": "ipython",
    "version": 3
   },
   "file_extension": ".py",
   "mimetype": "text/x-python",
   "name": "python",
   "nbconvert_exporter": "python",
   "pygments_lexer": "ipython3",
   "version": "3.11.3"
  }
 },
 "nbformat": 4,
 "nbformat_minor": 1
}
