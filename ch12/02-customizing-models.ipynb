{
 "cells": [
  {
   "cell_type": "code",
   "execution_count": 1,
   "metadata": {
    "collapsed": true,
    "ExecuteTime": {
     "end_time": "2023-06-17T15:10:49.513109300Z",
     "start_time": "2023-06-17T15:10:47.507292100Z"
    }
   },
   "outputs": [
    {
     "name": "stderr",
     "output_type": "stream",
     "text": [
      "2023-06-17 14:18:30.586473: I tensorflow/core/platform/cpu_feature_guard.cc:182] This TensorFlow binary is optimized to use available CPU instructions in performance-critical operations.\n",
      "To enable the following instructions: AVX2 FMA, in other operations, rebuild TensorFlow with the appropriate compiler flags.\n"
     ]
    }
   ],
   "source": [
    "import tensorrt\n",
    "import tensorflow as tf"
   ]
  },
  {
   "cell_type": "code",
   "execution_count": 53,
   "outputs": [],
   "source": [
    "import matplotlib.pyplot as plt\n",
    "from pathlib import Path\n",
    "import os"
   ],
   "metadata": {
    "collapsed": false,
    "ExecuteTime": {
     "end_time": "2023-06-17T15:50:28.467015100Z",
     "start_time": "2023-06-17T15:50:28.464078200Z"
    }
   }
  },
  {
   "cell_type": "markdown",
   "source": [
    "# Custom loss function"
   ],
   "metadata": {
    "collapsed": false
   }
  },
  {
   "cell_type": "markdown",
   "source": [
    "## Defining the custom Huber loss function"
   ],
   "metadata": {
    "collapsed": false
   }
  },
  {
   "cell_type": "code",
   "execution_count": 83,
   "outputs": [],
   "source": [
    "def custom_huber(y_true, y_pred):\n",
    "    error = y_true - y_pred\n",
    "    is_small_error = tf.abs(error) < 1\n",
    "    squared_loss = 0.5 * tf.square(error)\n",
    "    linear_loss = tf.abs(error) - 0.5\n",
    "    return tf.where(is_small_error, squared_loss, linear_loss)"
   ],
   "metadata": {
    "collapsed": false,
    "ExecuteTime": {
     "end_time": "2023-06-17T16:07:08.499491100Z",
     "start_time": "2023-06-17T16:07:08.497490600Z"
    }
   }
  },
  {
   "cell_type": "code",
   "execution_count": 93,
   "outputs": [
    {
     "data": {
      "text/plain": "<Figure size 600x300 with 1 Axes>",
      "image/png": "[encoded data removed]"
     },
     "metadata": {},
     "output_type": "display_data"
    }
   ],
   "source": [
    "x = tf.cast(tf.linspace(-2, 2, 100), dtype=tf.float32)\n",
    "z = tf.zeros(100)\n",
    "fig, ax = plt.subplots(figsize=(6, 3))\n",
    "ax: plt.Axes = ax\n",
    "ax.plot(x, custom_huber(x, z))\n",
    "ax.plot(x, tf.square(x), c='red')\n",
    "ax.plot(x, tf.abs(x), c='yellow')\n",
    "display()"
   ],
   "metadata": {
    "collapsed": false,
    "ExecuteTime": {
     "end_time": "2023-06-17T16:10:53.938585800Z",
     "start_time": "2023-06-17T16:10:53.811082500Z"
    }
   }
  },
  {
   "cell_type": "markdown",
   "source": [
    "## Building the model"
   ],
   "metadata": {
    "collapsed": false
   }
  },
  {
   "cell_type": "code",
   "execution_count": 44,
   "outputs": [],
   "source": [
    "(x_train, y_train), (x_test, y_test) = tf.keras.datasets.boston_housing.load_data()\n",
    "\n",
    "# Variables in order:\n",
    "# CRIM     per capita crime rate by town\n",
    "# ZN       proportion of residential land zoned for lots over 25,000 sq.ft.\n",
    "# INDUS    proportion of non-retail business acres per town\n",
    "# CHAS     Charles River dummy variable (= 1 if tract bounds river; 0 otherwise)\n",
    "# NOX      nitric oxides concentration (parts per 10 million)\n",
    "# RM       average number of rooms per dwelling\n",
    "# AGE      proportion of owner-occupied units built prior to 1940\n",
    "# DIS      weighted distances to five Boston employment centres\n",
    "# RAD      index of accessibility to radial highways\n",
    "# TAX      full-value property-tax rate per $10,000\n",
    "# PTRATIO  pupil-teacher ratio by town\n",
    "# B        1000(Bk - 0.63)^2 where Bk is the proportion of blacks by town\n",
    "# LSTAT    % lower status of the population\n",
    "# MEDV     Median value of owner-occupied homes in $1000's\n",
    "features = 'CRIM ZN INDUS CHAS NOX RM AGE DIS RAD TAX PTRATIO B LSTAT MEDV'.split(' ')"
   ],
   "metadata": {
    "collapsed": false,
    "ExecuteTime": {
     "end_time": "2023-06-17T15:42:26.178651300Z",
     "start_time": "2023-06-17T15:42:26.131407100Z"
    }
   }
  },
  {
   "cell_type": "code",
   "execution_count": 45,
   "outputs": [
    {
     "data": {
      "text/plain": "array([[1.23247e+00, 0.00000e+00, 8.14000e+00, ..., 2.10000e+01,\n        3.96900e+02, 1.87200e+01],\n       [2.17700e-02, 8.25000e+01, 2.03000e+00, ..., 1.47000e+01,\n        3.95380e+02, 3.11000e+00],\n       [4.89822e+00, 0.00000e+00, 1.81000e+01, ..., 2.02000e+01,\n        3.75520e+02, 3.26000e+00],\n       ...,\n       [3.46600e-02, 3.50000e+01, 6.06000e+00, ..., 1.69000e+01,\n        3.62250e+02, 7.83000e+00],\n       [2.14918e+00, 0.00000e+00, 1.95800e+01, ..., 1.47000e+01,\n        2.61950e+02, 1.57900e+01],\n       [1.43900e-02, 6.00000e+01, 2.93000e+00, ..., 1.56000e+01,\n        3.76700e+02, 4.38000e+00]])"
     },
     "execution_count": 45,
     "metadata": {},
     "output_type": "execute_result"
    }
   ],
   "source": [
    "x_train"
   ],
   "metadata": {
    "collapsed": false,
    "ExecuteTime": {
     "end_time": "2023-06-17T15:42:28.935939400Z",
     "start_time": "2023-06-17T15:42:28.915842Z"
    }
   }
  },
  {
   "cell_type": "code",
   "execution_count": 86,
   "outputs": [
    {
     "name": "stdout",
     "output_type": "stream",
     "text": [
      "/home/amitaharoni/workspace/homl3/ch12/01-huber/tensorboard\n"
     ]
    }
   ],
   "source": [
    "tf.keras.backend.clear_session()\n",
    "model = tf.keras.models.Sequential([\n",
    "    tf.keras.layers.InputLayer((13,)),\n",
    "    tf.keras.layers.Dense(100, activation='relu'),\n",
    "    tf.keras.layers.Dense(50, activation='relu', kernel_initializer='he_normal'),\n",
    "    tf.keras.layers.Dense(50, activation='relu', kernel_initializer='he_normal'),\n",
    "    tf.keras.layers.Dense(1)\n",
    "])\n",
    "model.compile(\n",
    "    loss=custom_huber,\n",
    "    optimizer=tf.keras.optimizers.Nadam(),\n",
    "    metrics=[tf.metrics.mse]\n",
    ")\n",
    "rootdir = Path() / '01-huber'\n",
    "logdir = rootdir / 'tensorboard'\n",
    "print(Path(os.getcwd()) / logdir)\n",
    "tensorboard_cb = tf.keras.callbacks.TensorBoard(logdir)\n",
    "early_cb = tf.keras.callbacks.EarlyStopping(restore_best_weights=True, patience=10)"
   ],
   "metadata": {
    "collapsed": false,
    "ExecuteTime": {
     "end_time": "2023-06-17T16:07:22.947309Z",
     "start_time": "2023-06-17T16:07:22.893292500Z"
    }
   }
  },
  {
   "cell_type": "code",
   "execution_count": 87,
   "outputs": [
    {
     "name": "stdout",
     "output_type": "stream",
     "text": [
      "Epoch 1/100\n",
      "11/11 [==============================] - 1s 19ms/step - loss: 10.7983 - mean_squared_error: 248.2993 - val_loss: 7.9607 - val_mean_squared_error: 158.2224\n",
      "Epoch 2/100\n",
      "11/11 [==============================] - 0s 9ms/step - loss: 7.3738 - mean_squared_error: 115.8356 - val_loss: 9.8264 - val_mean_squared_error: 202.7868\n",
      "Epoch 3/100\n",
      "11/11 [==============================] - 0s 9ms/step - loss: 6.5686 - mean_squared_error: 99.8717 - val_loss: 7.0356 - val_mean_squared_error: 130.2736\n",
      "Epoch 4/100\n",
      "11/11 [==============================] - 0s 10ms/step - loss: 5.4894 - mean_squared_error: 84.6555 - val_loss: 6.0616 - val_mean_squared_error: 94.4670\n",
      "Epoch 5/100\n",
      "11/11 [==============================] - 0s 9ms/step - loss: 5.1742 - mean_squared_error: 71.1678 - val_loss: 8.9742 - val_mean_squared_error: 121.5024\n",
      "Epoch 6/100\n",
      "11/11 [==============================] - 0s 10ms/step - loss: 5.5453 - mean_squared_error: 77.1977 - val_loss: 6.6253 - val_mean_squared_error: 91.5886\n",
      "Epoch 7/100\n",
      "11/11 [==============================] - 0s 10ms/step - loss: 5.1849 - mean_squared_error: 69.6008 - val_loss: 5.3426 - val_mean_squared_error: 88.4304\n",
      "Epoch 8/100\n",
      "11/11 [==============================] - 0s 9ms/step - loss: 4.8840 - mean_squared_error: 65.4280 - val_loss: 6.0227 - val_mean_squared_error: 106.8803\n",
      "Epoch 9/100\n",
      "11/11 [==============================] - 0s 9ms/step - loss: 4.7097 - mean_squared_error: 63.9107 - val_loss: 5.6259 - val_mean_squared_error: 76.7458\n",
      "Epoch 10/100\n",
      "11/11 [==============================] - 0s 9ms/step - loss: 4.7731 - mean_squared_error: 62.1813 - val_loss: 5.1008 - val_mean_squared_error: 82.8382\n",
      "Epoch 11/100\n",
      "11/11 [==============================] - 0s 8ms/step - loss: 4.6538 - mean_squared_error: 61.5644 - val_loss: 5.8356 - val_mean_squared_error: 97.8469\n",
      "Epoch 12/100\n",
      "11/11 [==============================] - 0s 9ms/step - loss: 4.6602 - mean_squared_error: 62.6115 - val_loss: 7.9690 - val_mean_squared_error: 143.4395\n",
      "Epoch 13/100\n",
      "11/11 [==============================] - 0s 8ms/step - loss: 4.6696 - mean_squared_error: 64.5284 - val_loss: 5.2503 - val_mean_squared_error: 85.4234\n",
      "Epoch 14/100\n",
      "11/11 [==============================] - 0s 8ms/step - loss: 4.3697 - mean_squared_error: 56.0241 - val_loss: 7.7854 - val_mean_squared_error: 95.9121\n",
      "Epoch 15/100\n",
      "11/11 [==============================] - 0s 8ms/step - loss: 4.9237 - mean_squared_error: 63.2191 - val_loss: 5.8744 - val_mean_squared_error: 99.6494\n",
      "Epoch 16/100\n",
      "11/11 [==============================] - 0s 8ms/step - loss: 4.4360 - mean_squared_error: 60.2502 - val_loss: 5.3015 - val_mean_squared_error: 89.3601\n",
      "Epoch 17/100\n",
      "11/11 [==============================] - 0s 8ms/step - loss: 4.2512 - mean_squared_error: 56.3347 - val_loss: 7.6859 - val_mean_squared_error: 103.9996\n",
      "Epoch 18/100\n",
      "11/11 [==============================] - 0s 9ms/step - loss: 5.0640 - mean_squared_error: 69.7279 - val_loss: 4.9476 - val_mean_squared_error: 81.4098\n",
      "Epoch 19/100\n",
      "11/11 [==============================] - 0s 8ms/step - loss: 4.1640 - mean_squared_error: 50.7000 - val_loss: 6.0154 - val_mean_squared_error: 73.5061\n",
      "Epoch 20/100\n",
      "11/11 [==============================] - 0s 9ms/step - loss: 4.3600 - mean_squared_error: 54.2131 - val_loss: 5.4490 - val_mean_squared_error: 88.0403\n",
      "Epoch 21/100\n",
      "11/11 [==============================] - 0s 8ms/step - loss: 3.8803 - mean_squared_error: 51.1238 - val_loss: 6.3236 - val_mean_squared_error: 71.2039\n",
      "Epoch 22/100\n",
      "11/11 [==============================] - 0s 9ms/step - loss: 4.6311 - mean_squared_error: 56.1552 - val_loss: 6.9012 - val_mean_squared_error: 109.0889\n",
      "Epoch 23/100\n",
      "11/11 [==============================] - 0s 8ms/step - loss: 4.1642 - mean_squared_error: 53.4053 - val_loss: 6.1200 - val_mean_squared_error: 99.0347\n",
      "Epoch 24/100\n",
      "11/11 [==============================] - 0s 9ms/step - loss: 3.9626 - mean_squared_error: 49.7822 - val_loss: 4.6404 - val_mean_squared_error: 68.5936\n",
      "Epoch 25/100\n",
      "11/11 [==============================] - 0s 8ms/step - loss: 3.8996 - mean_squared_error: 48.4514 - val_loss: 4.8819 - val_mean_squared_error: 59.5477\n",
      "Epoch 26/100\n",
      "11/11 [==============================] - 0s 8ms/step - loss: 3.8635 - mean_squared_error: 46.4079 - val_loss: 4.6469 - val_mean_squared_error: 67.4704\n",
      "Epoch 27/100\n",
      "11/11 [==============================] - 0s 8ms/step - loss: 3.5963 - mean_squared_error: 43.2723 - val_loss: 7.0078 - val_mean_squared_error: 111.1834\n",
      "Epoch 28/100\n",
      "11/11 [==============================] - 0s 9ms/step - loss: 3.9753 - mean_squared_error: 46.7829 - val_loss: 7.0392 - val_mean_squared_error: 81.1275\n",
      "Epoch 29/100\n",
      "11/11 [==============================] - 0s 9ms/step - loss: 4.1544 - mean_squared_error: 46.2628 - val_loss: 6.8479 - val_mean_squared_error: 106.7867\n",
      "Epoch 30/100\n",
      "11/11 [==============================] - 0s 8ms/step - loss: 3.7622 - mean_squared_error: 44.0350 - val_loss: 6.8775 - val_mean_squared_error: 77.2561\n",
      "Epoch 31/100\n",
      "11/11 [==============================] - 0s 8ms/step - loss: 4.0057 - mean_squared_error: 44.7066 - val_loss: 6.3062 - val_mean_squared_error: 96.1633\n",
      "Epoch 32/100\n",
      "11/11 [==============================] - 0s 9ms/step - loss: 3.7327 - mean_squared_error: 45.6433 - val_loss: 5.7239 - val_mean_squared_error: 85.6845\n",
      "Epoch 33/100\n",
      "11/11 [==============================] - 0s 9ms/step - loss: 3.7302 - mean_squared_error: 43.3120 - val_loss: 4.4625 - val_mean_squared_error: 53.5316\n",
      "Epoch 34/100\n",
      "11/11 [==============================] - 0s 9ms/step - loss: 3.4725 - mean_squared_error: 39.4120 - val_loss: 4.4504 - val_mean_squared_error: 61.5263\n",
      "Epoch 35/100\n",
      "11/11 [==============================] - 0s 9ms/step - loss: 3.5046 - mean_squared_error: 40.5902 - val_loss: 4.4338 - val_mean_squared_error: 52.9065\n",
      "Epoch 36/100\n",
      "11/11 [==============================] - 0s 9ms/step - loss: 3.7913 - mean_squared_error: 42.8767 - val_loss: 5.2270 - val_mean_squared_error: 76.1506\n",
      "Epoch 37/100\n",
      "11/11 [==============================] - 0s 9ms/step - loss: 3.6163 - mean_squared_error: 38.6695 - val_loss: 8.0586 - val_mean_squared_error: 128.5852\n",
      "Epoch 38/100\n",
      "11/11 [==============================] - 0s 9ms/step - loss: 3.9066 - mean_squared_error: 44.9261 - val_loss: 4.8453 - val_mean_squared_error: 62.6152\n",
      "Epoch 39/100\n",
      "11/11 [==============================] - 0s 9ms/step - loss: 3.7404 - mean_squared_error: 43.5317 - val_loss: 5.2522 - val_mean_squared_error: 76.6699\n",
      "Epoch 40/100\n",
      "11/11 [==============================] - 0s 8ms/step - loss: 3.5017 - mean_squared_error: 41.1052 - val_loss: 4.2091 - val_mean_squared_error: 49.7876\n",
      "Epoch 41/100\n",
      "11/11 [==============================] - 0s 9ms/step - loss: 3.3601 - mean_squared_error: 37.2991 - val_loss: 6.2531 - val_mean_squared_error: 68.1665\n",
      "Epoch 42/100\n",
      "11/11 [==============================] - 0s 9ms/step - loss: 3.9247 - mean_squared_error: 44.0681 - val_loss: 8.2962 - val_mean_squared_error: 97.5664\n",
      "Epoch 43/100\n",
      "11/11 [==============================] - 0s 9ms/step - loss: 4.0359 - mean_squared_error: 44.4302 - val_loss: 4.4056 - val_mean_squared_error: 51.1523\n",
      "Epoch 44/100\n",
      "11/11 [==============================] - 0s 9ms/step - loss: 3.4773 - mean_squared_error: 38.5760 - val_loss: 4.2231 - val_mean_squared_error: 56.7330\n",
      "Epoch 45/100\n",
      "11/11 [==============================] - 0s 9ms/step - loss: 3.3751 - mean_squared_error: 38.0661 - val_loss: 8.2942 - val_mean_squared_error: 125.1332\n",
      "Epoch 46/100\n",
      "11/11 [==============================] - 0s 9ms/step - loss: 3.7408 - mean_squared_error: 41.3814 - val_loss: 4.6869 - val_mean_squared_error: 67.8929\n",
      "Epoch 47/100\n",
      "11/11 [==============================] - 0s 9ms/step - loss: 3.2846 - mean_squared_error: 37.4743 - val_loss: 5.1962 - val_mean_squared_error: 75.0458\n",
      "Epoch 48/100\n",
      "11/11 [==============================] - 0s 9ms/step - loss: 3.5031 - mean_squared_error: 39.7524 - val_loss: 5.2954 - val_mean_squared_error: 75.3396\n",
      "Epoch 49/100\n",
      "11/11 [==============================] - 0s 9ms/step - loss: 3.3029 - mean_squared_error: 37.7354 - val_loss: 5.0102 - val_mean_squared_error: 71.7665\n",
      "Epoch 50/100\n",
      "11/11 [==============================] - 0s 9ms/step - loss: 3.4497 - mean_squared_error: 39.3960 - val_loss: 4.0132 - val_mean_squared_error: 50.3518\n",
      "Epoch 51/100\n",
      "11/11 [==============================] - 0s 8ms/step - loss: 3.1562 - mean_squared_error: 35.0941 - val_loss: 4.7236 - val_mean_squared_error: 62.3116\n",
      "Epoch 52/100\n",
      "11/11 [==============================] - 0s 9ms/step - loss: 3.6822 - mean_squared_error: 41.5187 - val_loss: 4.3631 - val_mean_squared_error: 46.9161\n",
      "Epoch 53/100\n",
      "11/11 [==============================] - 0s 8ms/step - loss: 3.3030 - mean_squared_error: 35.1665 - val_loss: 5.0797 - val_mean_squared_error: 52.0672\n",
      "Epoch 54/100\n",
      "11/11 [==============================] - 0s 9ms/step - loss: 3.7021 - mean_squared_error: 40.3253 - val_loss: 6.1287 - val_mean_squared_error: 84.9619\n",
      "Epoch 55/100\n",
      "11/11 [==============================] - 0s 9ms/step - loss: 3.5385 - mean_squared_error: 38.0859 - val_loss: 4.2482 - val_mean_squared_error: 43.6550\n",
      "Epoch 56/100\n",
      "11/11 [==============================] - 0s 9ms/step - loss: 3.3955 - mean_squared_error: 34.4834 - val_loss: 7.2173 - val_mean_squared_error: 102.3037\n",
      "Epoch 57/100\n",
      "11/11 [==============================] - 0s 9ms/step - loss: 3.3750 - mean_squared_error: 36.1845 - val_loss: 9.6298 - val_mean_squared_error: 123.0637\n",
      "Epoch 58/100\n",
      "11/11 [==============================] - 0s 9ms/step - loss: 4.7015 - mean_squared_error: 52.4386 - val_loss: 5.1394 - val_mean_squared_error: 50.9340\n",
      "Epoch 59/100\n",
      "11/11 [==============================] - 0s 8ms/step - loss: 3.3400 - mean_squared_error: 33.6112 - val_loss: 5.8122 - val_mean_squared_error: 82.2646\n",
      "Epoch 60/100\n",
      "11/11 [==============================] - 0s 10ms/step - loss: 3.3634 - mean_squared_error: 35.7619 - val_loss: 4.8639 - val_mean_squared_error: 46.5821\n"
     ]
    }
   ],
   "source": [
    "hist = model.fit(\n",
    "    x_train,\n",
    "    y_train,\n",
    "    epochs=100,\n",
    "    validation_split=0.2,\n",
    "    callbacks=[tensorboard_cb, early_cb]\n",
    ")"
   ],
   "metadata": {
    "collapsed": false,
    "ExecuteTime": {
     "end_time": "2023-06-17T16:07:32.990111200Z",
     "start_time": "2023-06-17T16:07:26.253365800Z"
    }
   }
  },
  {
   "cell_type": "code",
   "execution_count": 88,
   "outputs": [
    {
     "name": "stdout",
     "output_type": "stream",
     "text": [
      "4/4 [==============================] - 0s 3ms/step - loss: 3.8242 - mean_squared_error: 39.8018\n"
     ]
    },
    {
     "data": {
      "text/plain": "[3.8242034912109375, 39.80180740356445]"
     },
     "execution_count": 88,
     "metadata": {},
     "output_type": "execute_result"
    }
   ],
   "source": [
    "model.evaluate(x_test, y_test)"
   ],
   "metadata": {
    "collapsed": false,
    "ExecuteTime": {
     "end_time": "2023-06-17T16:07:34.835253200Z",
     "start_time": "2023-06-17T16:07:34.734068200Z"
    }
   }
  },
  {
   "cell_type": "markdown",
   "source": [
    "## Saving and loading models with custom functions\n",
    "Note that when saving and then loading the model, you'll have to provide a dictionary to resolve the loss function name `huber` to a python function."
   ],
   "metadata": {
    "collapsed": false
   }
  },
  {
   "cell_type": "code",
   "execution_count": 89,
   "outputs": [
    {
     "name": "stdout",
     "output_type": "stream",
     "text": [
      "INFO:tensorflow:Assets written to: 01-huber/model/assets\n"
     ]
    },
    {
     "name": "stderr",
     "output_type": "stream",
     "text": [
      "INFO:tensorflow:Assets written to: 01-huber/model/assets\n"
     ]
    }
   ],
   "source": [
    "savedir = rootdir / 'model'\n",
    "model.save(savedir)"
   ],
   "metadata": {
    "collapsed": false,
    "ExecuteTime": {
     "end_time": "2023-06-17T16:07:40.503891900Z",
     "start_time": "2023-06-17T16:07:39.809667200Z"
    }
   }
  },
  {
   "cell_type": "code",
   "execution_count": 91,
   "outputs": [
    {
     "ename": "ValueError",
     "evalue": "Unknown loss function: 'custom_huber'. Please ensure you are using a `keras.utils.custom_object_scope` and that this object is included in the scope. See https://www.tensorflow.org/guide/keras/save_and_serialize#registering_the_custom_object for details.",
     "output_type": "error",
     "traceback": [
      "\u001B[0;31m---------------------------------------------------------------------------\u001B[0m",
      "\u001B[0;31mValueError\u001B[0m                                Traceback (most recent call last)",
      "Cell \u001B[0;32mIn[91], line 1\u001B[0m\n\u001B[0;32m----> 1\u001B[0m loaded_model \u001B[38;5;241m=\u001B[39m \u001B[43mtf\u001B[49m\u001B[38;5;241;43m.\u001B[39;49m\u001B[43mkeras\u001B[49m\u001B[38;5;241;43m.\u001B[39;49m\u001B[43mmodels\u001B[49m\u001B[38;5;241;43m.\u001B[39;49m\u001B[43mload_model\u001B[49m\u001B[43m(\u001B[49m\u001B[43msavedir\u001B[49m\u001B[43m)\u001B[49m\n",
      "File \u001B[0;32m~/miniconda3/envs/tf/lib/python3.11/site-packages/keras/saving/saving_api.py:212\u001B[0m, in \u001B[0;36mload_model\u001B[0;34m(filepath, custom_objects, compile, safe_mode, **kwargs)\u001B[0m\n\u001B[1;32m    204\u001B[0m     \u001B[38;5;28;01mreturn\u001B[39;00m saving_lib\u001B[38;5;241m.\u001B[39mload_model(\n\u001B[1;32m    205\u001B[0m         filepath,\n\u001B[1;32m    206\u001B[0m         custom_objects\u001B[38;5;241m=\u001B[39mcustom_objects,\n\u001B[1;32m    207\u001B[0m         \u001B[38;5;28mcompile\u001B[39m\u001B[38;5;241m=\u001B[39m\u001B[38;5;28mcompile\u001B[39m,\n\u001B[1;32m    208\u001B[0m         safe_mode\u001B[38;5;241m=\u001B[39msafe_mode,\n\u001B[1;32m    209\u001B[0m     )\n\u001B[1;32m    211\u001B[0m \u001B[38;5;66;03m# Legacy case.\u001B[39;00m\n\u001B[0;32m--> 212\u001B[0m \u001B[38;5;28;01mreturn\u001B[39;00m \u001B[43mlegacy_sm_saving_lib\u001B[49m\u001B[38;5;241;43m.\u001B[39;49m\u001B[43mload_model\u001B[49m\u001B[43m(\u001B[49m\n\u001B[1;32m    213\u001B[0m \u001B[43m    \u001B[49m\u001B[43mfilepath\u001B[49m\u001B[43m,\u001B[49m\u001B[43m \u001B[49m\u001B[43mcustom_objects\u001B[49m\u001B[38;5;241;43m=\u001B[39;49m\u001B[43mcustom_objects\u001B[49m\u001B[43m,\u001B[49m\u001B[43m \u001B[49m\u001B[38;5;28;43mcompile\u001B[39;49m\u001B[38;5;241;43m=\u001B[39;49m\u001B[38;5;28;43mcompile\u001B[39;49m\u001B[43m,\u001B[49m\u001B[43m \u001B[49m\u001B[38;5;241;43m*\u001B[39;49m\u001B[38;5;241;43m*\u001B[39;49m\u001B[43mkwargs\u001B[49m\n\u001B[1;32m    214\u001B[0m \u001B[43m\u001B[49m\u001B[43m)\u001B[49m\n",
      "File \u001B[0;32m~/miniconda3/envs/tf/lib/python3.11/site-packages/keras/utils/traceback_utils.py:70\u001B[0m, in \u001B[0;36mfilter_traceback.<locals>.error_handler\u001B[0;34m(*args, **kwargs)\u001B[0m\n\u001B[1;32m     67\u001B[0m     filtered_tb \u001B[38;5;241m=\u001B[39m _process_traceback_frames(e\u001B[38;5;241m.\u001B[39m__traceback__)\n\u001B[1;32m     68\u001B[0m     \u001B[38;5;66;03m# To get the full stack trace, call:\u001B[39;00m\n\u001B[1;32m     69\u001B[0m     \u001B[38;5;66;03m# `tf.debugging.disable_traceback_filtering()`\u001B[39;00m\n\u001B[0;32m---> 70\u001B[0m     \u001B[38;5;28;01mraise\u001B[39;00m e\u001B[38;5;241m.\u001B[39mwith_traceback(filtered_tb) \u001B[38;5;28;01mfrom\u001B[39;00m \u001B[38;5;28;01mNone\u001B[39;00m\n\u001B[1;32m     71\u001B[0m \u001B[38;5;28;01mfinally\u001B[39;00m:\n\u001B[1;32m     72\u001B[0m     \u001B[38;5;28;01mdel\u001B[39;00m filtered_tb\n",
      "File \u001B[0;32m~/miniconda3/envs/tf/lib/python3.11/site-packages/keras/saving/legacy/serialization.py:543\u001B[0m, in \u001B[0;36mdeserialize_keras_object\u001B[0;34m(identifier, module_objects, custom_objects, printable_module_name)\u001B[0m\n\u001B[1;32m    541\u001B[0m     obj \u001B[38;5;241m=\u001B[39m module_objects\u001B[38;5;241m.\u001B[39mget(object_name)\n\u001B[1;32m    542\u001B[0m     \u001B[38;5;28;01mif\u001B[39;00m obj \u001B[38;5;129;01mis\u001B[39;00m \u001B[38;5;28;01mNone\u001B[39;00m:\n\u001B[0;32m--> 543\u001B[0m         \u001B[38;5;28;01mraise\u001B[39;00m \u001B[38;5;167;01mValueError\u001B[39;00m(\n\u001B[1;32m    544\u001B[0m             \u001B[38;5;124mf\u001B[39m\u001B[38;5;124m\"\u001B[39m\u001B[38;5;124mUnknown \u001B[39m\u001B[38;5;132;01m{\u001B[39;00mprintable_module_name\u001B[38;5;132;01m}\u001B[39;00m\u001B[38;5;124m: \u001B[39m\u001B[38;5;124m'\u001B[39m\u001B[38;5;132;01m{\u001B[39;00mobject_name\u001B[38;5;132;01m}\u001B[39;00m\u001B[38;5;124m'\u001B[39m\u001B[38;5;124m. \u001B[39m\u001B[38;5;124m\"\u001B[39m\n\u001B[1;32m    545\u001B[0m             \u001B[38;5;124m\"\u001B[39m\u001B[38;5;124mPlease ensure you are using a \u001B[39m\u001B[38;5;124m\"\u001B[39m\n\u001B[1;32m    546\u001B[0m             \u001B[38;5;124m\"\u001B[39m\u001B[38;5;124m`keras.utils.custom_object_scope` \u001B[39m\u001B[38;5;124m\"\u001B[39m\n\u001B[1;32m    547\u001B[0m             \u001B[38;5;124m\"\u001B[39m\u001B[38;5;124mand that this object is included in the scope. See \u001B[39m\u001B[38;5;124m\"\u001B[39m\n\u001B[1;32m    548\u001B[0m             \u001B[38;5;124m\"\u001B[39m\u001B[38;5;124mhttps://www.tensorflow.org/guide/keras/save_and_serialize\u001B[39m\u001B[38;5;124m\"\u001B[39m\n\u001B[1;32m    549\u001B[0m             \u001B[38;5;124m\"\u001B[39m\u001B[38;5;124m#registering_the_custom_object for details.\u001B[39m\u001B[38;5;124m\"\u001B[39m\n\u001B[1;32m    550\u001B[0m         )\n\u001B[1;32m    552\u001B[0m \u001B[38;5;66;03m# Classes passed by name are instantiated with no args, functions are\u001B[39;00m\n\u001B[1;32m    553\u001B[0m \u001B[38;5;66;03m# returned as-is.\u001B[39;00m\n\u001B[1;32m    554\u001B[0m \u001B[38;5;28;01mif\u001B[39;00m tf_inspect\u001B[38;5;241m.\u001B[39misclass(obj):\n",
      "\u001B[0;31mValueError\u001B[0m: Unknown loss function: 'custom_huber'. Please ensure you are using a `keras.utils.custom_object_scope` and that this object is included in the scope. See https://www.tensorflow.org/guide/keras/save_and_serialize#registering_the_custom_object for details."
     ]
    }
   ],
   "source": [
    "loaded_model = tf.keras.models.load_model(savedir)"
   ],
   "metadata": {
    "collapsed": false,
    "ExecuteTime": {
     "end_time": "2023-06-17T16:08:04.631580700Z",
     "start_time": "2023-06-17T16:08:04.466958700Z"
    }
   }
  },
  {
   "cell_type": "code",
   "execution_count": 92,
   "outputs": [
    {
     "name": "stdout",
     "output_type": "stream",
     "text": [
      "4/4 [==============================] - 0s 4ms/step - loss: 3.8242 - mean_squared_error: 39.8018\n"
     ]
    },
    {
     "data": {
      "text/plain": "[3.8242034912109375, 39.80180740356445]"
     },
     "execution_count": 92,
     "metadata": {},
     "output_type": "execute_result"
    }
   ],
   "source": [
    "loaded_model = tf.keras.models.load_model(\n",
    "    savedir,\n",
    "    custom_objects=dict(custom_huber=custom_huber)\n",
    ")\n",
    "loaded_model.evaluate(x_test, y_test)"
   ],
   "metadata": {
    "collapsed": false,
    "ExecuteTime": {
     "end_time": "2023-06-17T16:08:48.848700800Z",
     "start_time": "2023-06-17T16:08:48.553053200Z"
    }
   }
  },
  {
   "cell_type": "markdown",
   "source": [
    "## Saving & Loading with hyperparameters\n",
    "However, this will require some additional wrangling in case the custom loss function requires hyperparameters. One option is to create a factory function that receives the hyperparameters and returns a loss function that is a closure over those hyperparameters. This will require the loading concern to know the hyperparams used for the loss function, though.\n",
    "\n",
    "An alternative option is to use a class, as below."
   ],
   "metadata": {
    "collapsed": false
   }
  },
  {
   "cell_type": "code",
   "execution_count": 94,
   "outputs": [],
   "source": [
    "class CustomHuberLossFunction(tf.keras.losses.Loss):\n",
    "    # threshold is the hyperparam\n",
    "    # kwargs are by default `name` and `reduction` (AUTO, SUM_OVER_BATCH_SIZE, SUM, NONE)\n",
    "    def __init__(self, threshold=1.0, **kwargs):\n",
    "        self.threshold = threshold\n",
    "        super().__init__(**kwargs)\n",
    "\n",
    "    # The huber loss function with the threshold hyperparam\n",
    "    def call(self, y_true, y_pred):\n",
    "        error = y_true - y_pred\n",
    "        is_small_error = tf.abs(error) < self.threshold\n",
    "        squared_loss = 0.5 * tf.square(error)\n",
    "        linear_loss = self.threshold * tf.abs(error) - 0.5 * self.threshold ** 2\n",
    "        return tf.where(is_small_error, squared_loss, linear_loss)\n",
    "\n",
    "    # This makes sure to store the hyperparams when the model is saved\n",
    "    def get_config(self):\n",
    "        base_config = super().get_config()\n",
    "        return { **base_config, \"threshold\": self.threshold }"
   ],
   "metadata": {
    "collapsed": false,
    "ExecuteTime": {
     "end_time": "2023-06-17T16:25:04.443074600Z",
     "start_time": "2023-06-17T16:25:04.402726100Z"
    }
   }
  },
  {
   "cell_type": "code",
   "execution_count": 96,
   "outputs": [
    {
     "name": "stdout",
     "output_type": "stream",
     "text": [
      "/home/amitaharoni/workspace/homl3/ch12/02-huber-class/tensorboard\n"
     ]
    }
   ],
   "source": [
    "tf.keras.backend.clear_session()\n",
    "model = tf.keras.models.Sequential([\n",
    "    tf.keras.layers.InputLayer((13,)),\n",
    "    tf.keras.layers.Dense(100, activation='relu'),\n",
    "    tf.keras.layers.Dense(50, activation='relu', kernel_initializer='he_normal'),\n",
    "    tf.keras.layers.Dense(50, activation='relu', kernel_initializer='he_normal'),\n",
    "    tf.keras.layers.Dense(1)\n",
    "])\n",
    "model.compile(\n",
    "    loss=CustomHuberLossFunction(2.),\n",
    "    optimizer=tf.keras.optimizers.Nadam(),\n",
    "    metrics=[tf.metrics.mse]\n",
    ")\n",
    "rootdir = Path() / '02-huber-class'\n",
    "logdir = rootdir / 'tensorboard'\n",
    "print(Path(os.getcwd()) / logdir)\n",
    "tensorboard_cb = tf.keras.callbacks.TensorBoard(logdir)\n",
    "early_cb = tf.keras.callbacks.EarlyStopping(restore_best_weights=True, patience=10)"
   ],
   "metadata": {
    "collapsed": false,
    "ExecuteTime": {
     "end_time": "2023-06-17T16:26:00.211882200Z",
     "start_time": "2023-06-17T16:26:00.149938700Z"
    }
   }
  },
  {
   "cell_type": "code",
   "execution_count": 97,
   "outputs": [
    {
     "name": "stdout",
     "output_type": "stream",
     "text": [
      "Epoch 1/100\n",
      "11/11 [==============================] - 1s 19ms/step - loss: 17.5584 - mean_squared_error: 190.2311 - val_loss: 15.9366 - val_mean_squared_error: 114.3810\n",
      "Epoch 2/100\n",
      "11/11 [==============================] - 0s 9ms/step - loss: 11.9857 - mean_squared_error: 91.5236 - val_loss: 18.6242 - val_mean_squared_error: 133.6235\n",
      "Epoch 3/100\n",
      "11/11 [==============================] - 0s 9ms/step - loss: 10.5427 - mean_squared_error: 79.5155 - val_loss: 9.9890 - val_mean_squared_error: 85.6912\n",
      "Epoch 4/100\n",
      "11/11 [==============================] - 0s 9ms/step - loss: 9.3354 - mean_squared_error: 70.2763 - val_loss: 9.8852 - val_mean_squared_error: 73.7387\n",
      "Epoch 5/100\n",
      "11/11 [==============================] - 0s 9ms/step - loss: 8.6164 - mean_squared_error: 63.8030 - val_loss: 14.5151 - val_mean_squared_error: 134.5355\n",
      "Epoch 6/100\n",
      "11/11 [==============================] - 0s 9ms/step - loss: 8.5650 - mean_squared_error: 64.1810 - val_loss: 17.5581 - val_mean_squared_error: 119.2367\n",
      "Epoch 7/100\n",
      "11/11 [==============================] - 0s 9ms/step - loss: 10.0811 - mean_squared_error: 70.3229 - val_loss: 15.6906 - val_mean_squared_error: 103.6711\n",
      "Epoch 8/100\n",
      "11/11 [==============================] - 0s 9ms/step - loss: 9.3645 - mean_squared_error: 66.5353 - val_loss: 11.3503 - val_mean_squared_error: 69.6073\n",
      "Epoch 9/100\n",
      "11/11 [==============================] - 0s 8ms/step - loss: 7.9745 - mean_squared_error: 53.8488 - val_loss: 16.3635 - val_mean_squared_error: 145.8166\n",
      "Epoch 10/100\n",
      "11/11 [==============================] - 0s 8ms/step - loss: 8.1328 - mean_squared_error: 62.3673 - val_loss: 9.5265 - val_mean_squared_error: 64.0213\n",
      "Epoch 11/100\n",
      "11/11 [==============================] - 0s 9ms/step - loss: 7.8512 - mean_squared_error: 54.7985 - val_loss: 8.9224 - val_mean_squared_error: 72.6247\n",
      "Epoch 12/100\n",
      "11/11 [==============================] - 0s 8ms/step - loss: 7.5715 - mean_squared_error: 52.5802 - val_loss: 9.8867 - val_mean_squared_error: 60.8972\n",
      "Epoch 13/100\n",
      "11/11 [==============================] - 0s 9ms/step - loss: 8.0980 - mean_squared_error: 57.1159 - val_loss: 8.7793 - val_mean_squared_error: 71.2585\n",
      "Epoch 14/100\n",
      "11/11 [==============================] - 0s 9ms/step - loss: 7.4956 - mean_squared_error: 51.3808 - val_loss: 8.3195 - val_mean_squared_error: 54.8997\n",
      "Epoch 15/100\n",
      "11/11 [==============================] - 0s 8ms/step - loss: 7.2883 - mean_squared_error: 50.6157 - val_loss: 13.7926 - val_mean_squared_error: 112.7366\n",
      "Epoch 16/100\n",
      "11/11 [==============================] - 0s 9ms/step - loss: 7.5238 - mean_squared_error: 49.8838 - val_loss: 10.3648 - val_mean_squared_error: 59.7443\n",
      "Epoch 17/100\n",
      "11/11 [==============================] - 0s 10ms/step - loss: 7.1444 - mean_squared_error: 46.5074 - val_loss: 8.1847 - val_mean_squared_error: 63.1616\n",
      "Epoch 18/100\n",
      "11/11 [==============================] - 0s 10ms/step - loss: 6.9650 - mean_squared_error: 46.8068 - val_loss: 12.7352 - val_mean_squared_error: 102.6836\n",
      "Epoch 19/100\n",
      "11/11 [==============================] - 0s 9ms/step - loss: 7.4899 - mean_squared_error: 49.4566 - val_loss: 9.1056 - val_mean_squared_error: 71.4901\n",
      "Epoch 20/100\n",
      "11/11 [==============================] - 0s 9ms/step - loss: 6.7085 - mean_squared_error: 44.6591 - val_loss: 7.9487 - val_mean_squared_error: 54.9165\n",
      "Epoch 21/100\n",
      "11/11 [==============================] - 0s 9ms/step - loss: 6.3958 - mean_squared_error: 42.0353 - val_loss: 8.3289 - val_mean_squared_error: 51.6686\n",
      "Epoch 22/100\n",
      "11/11 [==============================] - 0s 9ms/step - loss: 6.9899 - mean_squared_error: 44.1655 - val_loss: 8.3019 - val_mean_squared_error: 52.6783\n",
      "Epoch 23/100\n",
      "11/11 [==============================] - 0s 9ms/step - loss: 6.5818 - mean_squared_error: 41.4381 - val_loss: 14.1982 - val_mean_squared_error: 84.5246\n",
      "Epoch 24/100\n",
      "11/11 [==============================] - 0s 9ms/step - loss: 8.1904 - mean_squared_error: 50.1998 - val_loss: 10.1007 - val_mean_squared_error: 56.6284\n",
      "Epoch 25/100\n",
      "11/11 [==============================] - 0s 8ms/step - loss: 7.0706 - mean_squared_error: 45.1029 - val_loss: 8.9943 - val_mean_squared_error: 69.9724\n",
      "Epoch 26/100\n",
      "11/11 [==============================] - 0s 9ms/step - loss: 6.0994 - mean_squared_error: 38.1800 - val_loss: 10.4084 - val_mean_squared_error: 59.1639\n",
      "Epoch 27/100\n",
      "11/11 [==============================] - 0s 10ms/step - loss: 7.3396 - mean_squared_error: 45.6754 - val_loss: 8.0227 - val_mean_squared_error: 47.3318\n",
      "Epoch 28/100\n",
      "11/11 [==============================] - 0s 9ms/step - loss: 5.9438 - mean_squared_error: 37.7944 - val_loss: 7.5789 - val_mean_squared_error: 47.5556\n",
      "Epoch 29/100\n",
      "11/11 [==============================] - 0s 9ms/step - loss: 6.7400 - mean_squared_error: 43.2214 - val_loss: 8.3775 - val_mean_squared_error: 64.1068\n",
      "Epoch 30/100\n",
      "11/11 [==============================] - 0s 10ms/step - loss: 5.9557 - mean_squared_error: 38.2479 - val_loss: 8.6167 - val_mean_squared_error: 66.1226\n",
      "Epoch 31/100\n",
      "11/11 [==============================] - 0s 10ms/step - loss: 6.6442 - mean_squared_error: 39.4663 - val_loss: 9.5862 - val_mean_squared_error: 51.4137\n",
      "Epoch 32/100\n",
      "11/11 [==============================] - 0s 9ms/step - loss: 6.8836 - mean_squared_error: 38.2108 - val_loss: 11.1260 - val_mean_squared_error: 60.5523\n",
      "Epoch 33/100\n",
      "11/11 [==============================] - 0s 9ms/step - loss: 6.6359 - mean_squared_error: 42.0183 - val_loss: 7.6298 - val_mean_squared_error: 56.4982\n",
      "Epoch 34/100\n",
      "11/11 [==============================] - 0s 9ms/step - loss: 6.1357 - mean_squared_error: 38.2857 - val_loss: 9.6725 - val_mean_squared_error: 73.6986\n",
      "Epoch 35/100\n",
      "11/11 [==============================] - 0s 9ms/step - loss: 6.3815 - mean_squared_error: 39.8578 - val_loss: 8.1457 - val_mean_squared_error: 45.0630\n",
      "Epoch 36/100\n",
      "11/11 [==============================] - 0s 9ms/step - loss: 6.2172 - mean_squared_error: 38.7401 - val_loss: 9.2053 - val_mean_squared_error: 68.4171\n",
      "Epoch 37/100\n",
      "11/11 [==============================] - 0s 8ms/step - loss: 6.1927 - mean_squared_error: 36.9963 - val_loss: 9.4731 - val_mean_squared_error: 52.4326\n",
      "Epoch 38/100\n",
      "11/11 [==============================] - 0s 10ms/step - loss: 6.6123 - mean_squared_error: 37.7746 - val_loss: 7.7305 - val_mean_squared_error: 49.5414\n"
     ]
    }
   ],
   "source": [
    "hist = model.fit(\n",
    "    x_train,\n",
    "    y_train,\n",
    "    epochs=100,\n",
    "    validation_split=0.2,\n",
    "    callbacks=[tensorboard_cb, early_cb]\n",
    ")"
   ],
   "metadata": {
    "collapsed": false,
    "ExecuteTime": {
     "end_time": "2023-06-17T16:26:24.412081100Z",
     "start_time": "2023-06-17T16:26:19.520751300Z"
    }
   }
  },
  {
   "cell_type": "code",
   "execution_count": 98,
   "outputs": [
    {
     "name": "stdout",
     "output_type": "stream",
     "text": [
      "4/4 [==============================] - 0s 3ms/step - loss: 7.4481 - mean_squared_error: 43.5709\n"
     ]
    },
    {
     "data": {
      "text/plain": "[7.448123931884766, 43.57090759277344]"
     },
     "execution_count": 98,
     "metadata": {},
     "output_type": "execute_result"
    }
   ],
   "source": [
    "model.evaluate(x_test, y_test)"
   ],
   "metadata": {
    "collapsed": false,
    "ExecuteTime": {
     "end_time": "2023-06-17T16:26:30.407173500Z",
     "start_time": "2023-06-17T16:26:30.346493600Z"
    }
   }
  },
  {
   "cell_type": "code",
   "execution_count": 99,
   "outputs": [
    {
     "name": "stdout",
     "output_type": "stream",
     "text": [
      "INFO:tensorflow:Assets written to: 02-huber-class/model/assets\n"
     ]
    },
    {
     "name": "stderr",
     "output_type": "stream",
     "text": [
      "INFO:tensorflow:Assets written to: 02-huber-class/model/assets\n"
     ]
    }
   ],
   "source": [
    "savedir = rootdir / 'model'\n",
    "model.save(savedir)"
   ],
   "metadata": {
    "collapsed": false,
    "ExecuteTime": {
     "end_time": "2023-06-17T16:26:53.895025300Z",
     "start_time": "2023-06-17T16:26:53.470137700Z"
    }
   }
  },
  {
   "cell_type": "code",
   "execution_count": 100,
   "outputs": [
    {
     "ename": "ValueError",
     "evalue": "Unknown loss function: 'CustomHuberLossFunction'. Please ensure you are using a `keras.utils.custom_object_scope` and that this object is included in the scope. See https://www.tensorflow.org/guide/keras/save_and_serialize#registering_the_custom_object for details.",
     "output_type": "error",
     "traceback": [
      "\u001B[0;31m---------------------------------------------------------------------------\u001B[0m",
      "\u001B[0;31mValueError\u001B[0m                                Traceback (most recent call last)",
      "Cell \u001B[0;32mIn[100], line 1\u001B[0m\n\u001B[0;32m----> 1\u001B[0m loaded_model \u001B[38;5;241m=\u001B[39m \u001B[43mtf\u001B[49m\u001B[38;5;241;43m.\u001B[39;49m\u001B[43mkeras\u001B[49m\u001B[38;5;241;43m.\u001B[39;49m\u001B[43mmodels\u001B[49m\u001B[38;5;241;43m.\u001B[39;49m\u001B[43mload_model\u001B[49m\u001B[43m(\u001B[49m\u001B[43msavedir\u001B[49m\u001B[43m)\u001B[49m\n",
      "File \u001B[0;32m~/miniconda3/envs/tf/lib/python3.11/site-packages/keras/saving/saving_api.py:212\u001B[0m, in \u001B[0;36mload_model\u001B[0;34m(filepath, custom_objects, compile, safe_mode, **kwargs)\u001B[0m\n\u001B[1;32m    204\u001B[0m     \u001B[38;5;28;01mreturn\u001B[39;00m saving_lib\u001B[38;5;241m.\u001B[39mload_model(\n\u001B[1;32m    205\u001B[0m         filepath,\n\u001B[1;32m    206\u001B[0m         custom_objects\u001B[38;5;241m=\u001B[39mcustom_objects,\n\u001B[1;32m    207\u001B[0m         \u001B[38;5;28mcompile\u001B[39m\u001B[38;5;241m=\u001B[39m\u001B[38;5;28mcompile\u001B[39m,\n\u001B[1;32m    208\u001B[0m         safe_mode\u001B[38;5;241m=\u001B[39msafe_mode,\n\u001B[1;32m    209\u001B[0m     )\n\u001B[1;32m    211\u001B[0m \u001B[38;5;66;03m# Legacy case.\u001B[39;00m\n\u001B[0;32m--> 212\u001B[0m \u001B[38;5;28;01mreturn\u001B[39;00m \u001B[43mlegacy_sm_saving_lib\u001B[49m\u001B[38;5;241;43m.\u001B[39;49m\u001B[43mload_model\u001B[49m\u001B[43m(\u001B[49m\n\u001B[1;32m    213\u001B[0m \u001B[43m    \u001B[49m\u001B[43mfilepath\u001B[49m\u001B[43m,\u001B[49m\u001B[43m \u001B[49m\u001B[43mcustom_objects\u001B[49m\u001B[38;5;241;43m=\u001B[39;49m\u001B[43mcustom_objects\u001B[49m\u001B[43m,\u001B[49m\u001B[43m \u001B[49m\u001B[38;5;28;43mcompile\u001B[39;49m\u001B[38;5;241;43m=\u001B[39;49m\u001B[38;5;28;43mcompile\u001B[39;49m\u001B[43m,\u001B[49m\u001B[43m \u001B[49m\u001B[38;5;241;43m*\u001B[39;49m\u001B[38;5;241;43m*\u001B[39;49m\u001B[43mkwargs\u001B[49m\n\u001B[1;32m    214\u001B[0m \u001B[43m\u001B[49m\u001B[43m)\u001B[49m\n",
      "File \u001B[0;32m~/miniconda3/envs/tf/lib/python3.11/site-packages/keras/utils/traceback_utils.py:70\u001B[0m, in \u001B[0;36mfilter_traceback.<locals>.error_handler\u001B[0;34m(*args, **kwargs)\u001B[0m\n\u001B[1;32m     67\u001B[0m     filtered_tb \u001B[38;5;241m=\u001B[39m _process_traceback_frames(e\u001B[38;5;241m.\u001B[39m__traceback__)\n\u001B[1;32m     68\u001B[0m     \u001B[38;5;66;03m# To get the full stack trace, call:\u001B[39;00m\n\u001B[1;32m     69\u001B[0m     \u001B[38;5;66;03m# `tf.debugging.disable_traceback_filtering()`\u001B[39;00m\n\u001B[0;32m---> 70\u001B[0m     \u001B[38;5;28;01mraise\u001B[39;00m e\u001B[38;5;241m.\u001B[39mwith_traceback(filtered_tb) \u001B[38;5;28;01mfrom\u001B[39;00m \u001B[38;5;28;01mNone\u001B[39;00m\n\u001B[1;32m     71\u001B[0m \u001B[38;5;28;01mfinally\u001B[39;00m:\n\u001B[1;32m     72\u001B[0m     \u001B[38;5;28;01mdel\u001B[39;00m filtered_tb\n",
      "File \u001B[0;32m~/miniconda3/envs/tf/lib/python3.11/site-packages/keras/saving/legacy/serialization.py:368\u001B[0m, in \u001B[0;36mclass_and_config_for_serialized_keras_object\u001B[0;34m(config, module_objects, custom_objects, printable_module_name)\u001B[0m\n\u001B[1;32m    364\u001B[0m \u001B[38;5;28mcls\u001B[39m \u001B[38;5;241m=\u001B[39m object_registration\u001B[38;5;241m.\u001B[39mget_registered_object(\n\u001B[1;32m    365\u001B[0m     class_name, custom_objects, module_objects\n\u001B[1;32m    366\u001B[0m )\n\u001B[1;32m    367\u001B[0m \u001B[38;5;28;01mif\u001B[39;00m \u001B[38;5;28mcls\u001B[39m \u001B[38;5;129;01mis\u001B[39;00m \u001B[38;5;28;01mNone\u001B[39;00m:\n\u001B[0;32m--> 368\u001B[0m     \u001B[38;5;28;01mraise\u001B[39;00m \u001B[38;5;167;01mValueError\u001B[39;00m(\n\u001B[1;32m    369\u001B[0m         \u001B[38;5;124mf\u001B[39m\u001B[38;5;124m\"\u001B[39m\u001B[38;5;124mUnknown \u001B[39m\u001B[38;5;132;01m{\u001B[39;00mprintable_module_name\u001B[38;5;132;01m}\u001B[39;00m\u001B[38;5;124m: \u001B[39m\u001B[38;5;124m'\u001B[39m\u001B[38;5;132;01m{\u001B[39;00mclass_name\u001B[38;5;132;01m}\u001B[39;00m\u001B[38;5;124m'\u001B[39m\u001B[38;5;124m. \u001B[39m\u001B[38;5;124m\"\u001B[39m\n\u001B[1;32m    370\u001B[0m         \u001B[38;5;124m\"\u001B[39m\u001B[38;5;124mPlease ensure you are using a `keras.utils.custom_object_scope` \u001B[39m\u001B[38;5;124m\"\u001B[39m\n\u001B[1;32m    371\u001B[0m         \u001B[38;5;124m\"\u001B[39m\u001B[38;5;124mand that this object is included in the scope. See \u001B[39m\u001B[38;5;124m\"\u001B[39m\n\u001B[1;32m    372\u001B[0m         \u001B[38;5;124m\"\u001B[39m\u001B[38;5;124mhttps://www.tensorflow.org/guide/keras/save_and_serialize\u001B[39m\u001B[38;5;124m\"\u001B[39m\n\u001B[1;32m    373\u001B[0m         \u001B[38;5;124m\"\u001B[39m\u001B[38;5;124m#registering_the_custom_object for details.\u001B[39m\u001B[38;5;124m\"\u001B[39m\n\u001B[1;32m    374\u001B[0m     )\n\u001B[1;32m    376\u001B[0m cls_config \u001B[38;5;241m=\u001B[39m config[\u001B[38;5;124m\"\u001B[39m\u001B[38;5;124mconfig\u001B[39m\u001B[38;5;124m\"\u001B[39m]\n\u001B[1;32m    377\u001B[0m \u001B[38;5;66;03m# Check if `cls_config` is a list. If it is a list, return the class and the\u001B[39;00m\n\u001B[1;32m    378\u001B[0m \u001B[38;5;66;03m# associated class configs for recursively deserialization. This case will\u001B[39;00m\n\u001B[1;32m    379\u001B[0m \u001B[38;5;66;03m# happen on the old version of sequential model (e.g. `keras_version` ==\u001B[39;00m\n\u001B[1;32m    380\u001B[0m \u001B[38;5;66;03m# \"2.0.6\"), which is serialized in a different structure, for example\u001B[39;00m\n\u001B[1;32m    381\u001B[0m \u001B[38;5;66;03m# \"{'class_name': 'Sequential',\u001B[39;00m\n\u001B[1;32m    382\u001B[0m \u001B[38;5;66;03m#   'config': [{'class_name': 'Embedding', 'config': ...}, {}, ...]}\".\u001B[39;00m\n",
      "\u001B[0;31mValueError\u001B[0m: Unknown loss function: 'CustomHuberLossFunction'. Please ensure you are using a `keras.utils.custom_object_scope` and that this object is included in the scope. See https://www.tensorflow.org/guide/keras/save_and_serialize#registering_the_custom_object for details."
     ]
    }
   ],
   "source": [
    "# We still need to refer it to the loss class\n",
    "loaded_model = tf.keras.models.load_model(savedir)"
   ],
   "metadata": {
    "collapsed": false,
    "ExecuteTime": {
     "end_time": "2023-06-17T16:27:16.306603300Z",
     "start_time": "2023-06-17T16:27:16.126876700Z"
    }
   }
  },
  {
   "cell_type": "code",
   "execution_count": 105,
   "outputs": [
    {
     "name": "stdout",
     "output_type": "stream",
     "text": [
      "4/4 [==============================] - 0s 4ms/step - loss: 7.4481 - mean_squared_error: 43.5709\n"
     ]
    },
    {
     "data": {
      "text/plain": "[7.448123931884766, 43.57090759277344]"
     },
     "execution_count": 105,
     "metadata": {},
     "output_type": "execute_result"
    }
   ],
   "source": [
    "# But we do not need to provide the threshold hyperparameter!\n",
    "loaded_model: tf.keras.Model = tf.keras.models.load_model(\n",
    "    savedir,\n",
    "    custom_objects=dict(CustomHuberLossFunction=CustomHuberLossFunction)\n",
    ")\n",
    "loaded_model.evaluate(x_test, y_test)"
   ],
   "metadata": {
    "collapsed": false,
    "ExecuteTime": {
     "end_time": "2023-06-17T16:28:14.657023300Z",
     "start_time": "2023-06-17T16:28:14.360561700Z"
    }
   }
  },
  {
   "cell_type": "markdown",
   "source": [
    "# Activation, initialization, regularization, and constraints"
   ],
   "metadata": {
    "collapsed": false
   }
  },
  {
   "cell_type": "code",
   "execution_count": 106,
   "outputs": [],
   "source": [
    "def custom_softplus(z):\n",
    "    return tf.math.log(1.0 + tf.exp(z))\n",
    "\n",
    "def custom_glorot_init(shape, dtype=tf.float32):\n",
    "    stddev = tf.sqrt(2. / (shape[0] + shape[1]))\n",
    "    return tf.random.normal(shape, stddev=stddev, dtype=dtype)\n",
    "\n",
    "def custom_l1_regularizer(weights):\n",
    "    return 0.01 * tf.reduce_sum(tf.abs(weights))\n",
    "\n",
    "def custom_positive_constraint(weights: tf.Tensor):\n",
    "    return tf.reduce_max(tf.zeros_like(weights), weights)\n",
    "\n",
    "layer = tf.keras.layers.Dense(\n",
    "    1,\n",
    "    activation=custom_softplus,\n",
    "    kernel_initializer=custom_glorot_init,\n",
    "    kernel_regularizer=custom_l1_regularizer,        # Add the result to the loss\n",
    "    kernel_constraint=custom_positive_constraint     # Replace the weights with the result\n",
    ")"
   ],
   "metadata": {
    "collapsed": false,
    "ExecuteTime": {
     "end_time": "2023-06-17T16:54:14.456662200Z",
     "start_time": "2023-06-17T16:54:14.455663100Z"
    }
   }
  },
  {
   "cell_type": "code",
   "execution_count": null,
   "outputs": [],
   "source": [
    "tf.keras.regularizers.Regularizer"
   ],
   "metadata": {
    "collapsed": false
   }
  }
 ],
 "metadata": {
  "kernelspec": {
   "display_name": "Python 3",
   "language": "python",
   "name": "python3"
  },
  "language_info": {
   "codemirror_mode": {
    "name": "ipython",
    "version": 2
   },
   "file_extension": ".py",
   "mimetype": "text/x-python",
   "name": "python",
   "nbconvert_exporter": "python",
   "pygments_lexer": "ipython2",
   "version": "2.7.6"
  }
 },
 "nbformat": 4,
 "nbformat_minor": 0
}
