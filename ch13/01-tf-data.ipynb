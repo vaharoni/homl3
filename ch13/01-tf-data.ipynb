{
 "cells": [
  {
   "cell_type": "code",
   "execution_count": 26,
   "metadata": {
    "collapsed": true,
    "ExecuteTime": {
     "end_time": "2023-06-24T10:52:57.961508Z",
     "start_time": "2023-06-24T10:52:57.940533Z"
    }
   },
   "outputs": [],
   "source": [
    "import tensorflow as tf"
   ]
  },
  {
   "cell_type": "code",
   "execution_count": 31,
   "outputs": [
    {
     "data": {
      "text/plain": "<_TensorSliceDataset element_spec=TensorSpec(shape=(3,), dtype=tf.int32, name=None)>"
     },
     "execution_count": 31,
     "metadata": {},
     "output_type": "execute_result"
    }
   ],
   "source": [
    "x = tf.constant([[1, 2, 3], [4, 5, 6], [7, 8, 9]])\n",
    "dataset = tf.data.Dataset.from_tensor_slices(x)\n",
    "dataset"
   ],
   "metadata": {
    "collapsed": false,
    "ExecuteTime": {
     "end_time": "2023-06-24T10:53:09.805695Z",
     "start_time": "2023-06-24T10:53:09.800567Z"
    }
   }
  },
  {
   "cell_type": "code",
   "execution_count": 32,
   "outputs": [
    {
     "name": "stdout",
     "output_type": "stream",
     "text": [
      "tf.Tensor([1 2 3], shape=(3,), dtype=int32)\n",
      "tf.Tensor([4 5 6], shape=(3,), dtype=int32)\n",
      "tf.Tensor([7 8 9], shape=(3,), dtype=int32)\n"
     ]
    }
   ],
   "source": [
    "for item in dataset:\n",
    "    print(item)"
   ],
   "metadata": {
    "collapsed": false,
    "ExecuteTime": {
     "end_time": "2023-06-24T10:53:11.820336Z",
     "start_time": "2023-06-24T10:53:11.814918Z"
    }
   }
  },
  {
   "cell_type": "markdown",
   "source": [
    "Slicing nested structures (dictionaries, tuples...) retains the structure. This cand be useful when slicing on both inputs (X_train) and labels (y_train) at the same time."
   ],
   "metadata": {
    "collapsed": false
   }
  },
  {
   "cell_type": "code",
   "execution_count": 33,
   "outputs": [
    {
     "data": {
      "text/plain": "<_TensorSliceDataset element_spec={'a': TensorSpec(shape=(3,), dtype=tf.int32, name=None), 'b': TensorSpec(shape=(3,), dtype=tf.int32, name=None)}>"
     },
     "execution_count": 33,
     "metadata": {},
     "output_type": "execute_result"
    }
   ],
   "source": [
    "x_nested = {\n",
    "    'a': tf.constant([[1, 2, 3], [4, 5, 6], [7, 8, 9]]),\n",
    "    'b': tf.constant([[3, 2, 1], [6, 5, 4], [9, 8, 7]])\n",
    "}\n",
    "dataset2 = tf.data.Dataset.from_tensor_slices(x_nested)\n",
    "dataset2"
   ],
   "metadata": {
    "collapsed": false,
    "ExecuteTime": {
     "end_time": "2023-06-24T10:53:14.001715Z",
     "start_time": "2023-06-24T10:53:13.996591Z"
    }
   }
  },
  {
   "cell_type": "code",
   "execution_count": 34,
   "outputs": [
    {
     "name": "stdout",
     "output_type": "stream",
     "text": [
      "{'a': <tf.Tensor: shape=(3,), dtype=int32, numpy=array([1, 2, 3], dtype=int32)>, 'b': <tf.Tensor: shape=(3,), dtype=int32, numpy=array([3, 2, 1], dtype=int32)>}\n",
      "{'a': <tf.Tensor: shape=(3,), dtype=int32, numpy=array([4, 5, 6], dtype=int32)>, 'b': <tf.Tensor: shape=(3,), dtype=int32, numpy=array([6, 5, 4], dtype=int32)>}\n",
      "{'a': <tf.Tensor: shape=(3,), dtype=int32, numpy=array([7, 8, 9], dtype=int32)>, 'b': <tf.Tensor: shape=(3,), dtype=int32, numpy=array([9, 8, 7], dtype=int32)>}\n"
     ]
    }
   ],
   "source": [
    "for item in dataset2:\n",
    "    print(item)"
   ],
   "metadata": {
    "collapsed": false,
    "ExecuteTime": {
     "end_time": "2023-06-24T10:53:15.953485Z",
     "start_time": "2023-06-24T10:53:15.949958Z"
    }
   }
  },
  {
   "cell_type": "code",
   "execution_count": 46,
   "outputs": [
    {
     "name": "stdout",
     "output_type": "stream",
     "text": [
      "tf.Tensor(3, shape=(), dtype=int64)\n",
      "tf.Tensor(12, shape=(), dtype=int64)\n",
      "tf.Tensor(2, shape=(), dtype=int64)\n",
      "tf.Tensor(\n",
      "[[1 2 3]\n",
      " [4 5 6]\n",
      " [7 8 9]\n",
      " [1 2 3]\n",
      " [4 5 6]\n",
      " [7 8 9]], shape=(6, 3), dtype=int32)\n",
      "tf.Tensor(\n",
      "[[1 2 3]\n",
      " [4 5 6]\n",
      " [7 8 9]\n",
      " [1 2 3]\n",
      " [4 5 6]\n",
      " [7 8 9]], shape=(6, 3), dtype=int32)\n"
     ]
    }
   ],
   "source": [
    "print(dataset.cardinality())\n",
    "print(dataset.repeat(4).cardinality())\n",
    "print(dataset.repeat(4).batch(6).cardinality())\n",
    "for item in dataset.repeat(4).batch(6):\n",
    "    print(item)"
   ],
   "metadata": {
    "collapsed": false,
    "ExecuteTime": {
     "end_time": "2023-06-24T10:56:17.294403Z",
     "start_time": "2023-06-24T10:56:17.287404Z"
    }
   }
  },
  {
   "cell_type": "code",
   "execution_count": 51,
   "outputs": [
    {
     "name": "stdout",
     "output_type": "stream",
     "text": [
      "tf.Tensor([2 4 6], shape=(3,), dtype=int32)\n",
      "tf.Tensor([ 8 10 12], shape=(3,), dtype=int32)\n",
      "tf.Tensor([14 16 18], shape=(3,), dtype=int32)\n"
     ]
    }
   ],
   "source": [
    "for item in dataset.map(lambda x: x * 2, num_parallel_calls=2):\n",
    "    print(item)"
   ],
   "metadata": {
    "collapsed": false,
    "ExecuteTime": {
     "end_time": "2023-06-24T11:02:08.635025Z",
     "start_time": "2023-06-24T11:02:08.618546Z"
    }
   }
  },
  {
   "cell_type": "code",
   "execution_count": 93,
   "outputs": [
    {
     "name": "stdout",
     "output_type": "stream",
     "text": [
      "tf.Tensor([1 2 3], shape=(3,), dtype=int32)\n",
      "tf.Tensor([4 5 6], shape=(3,), dtype=int32)\n",
      "tf.Tensor([7 8 9], shape=(3,), dtype=int32)\n",
      "----\n",
      "tf.Tensor([4 5 6], shape=(3,), dtype=int32)\n",
      "tf.Tensor([7 8 9], shape=(3,), dtype=int32)\n",
      "tf.Tensor([1 2 3], shape=(3,), dtype=int32)\n"
     ]
    }
   ],
   "source": [
    "for item in dataset.shuffle(buffer_size=1):\n",
    "    print(item)\n",
    "\n",
    "print('----')\n",
    "for item in dataset.shuffle(buffer_size=len(dataset)):\n",
    "    print(item)"
   ],
   "metadata": {
    "collapsed": false,
    "ExecuteTime": {
     "end_time": "2023-06-24T11:14:25.929237Z",
     "start_time": "2023-06-24T11:14:25.921194Z"
    }
   }
  },
  {
   "cell_type": "code",
   "execution_count": 96,
   "outputs": [
    {
     "name": "stdout",
     "output_type": "stream",
     "text": [
      "tf.Tensor(b'./01-tf-data.ipynb', shape=(), dtype=string)\n"
     ]
    }
   ],
   "source": [
    "files = tf.data.Dataset.list_files('./*')\n",
    "for item in files:\n",
    "    print(item)"
   ],
   "metadata": {
    "collapsed": false,
    "ExecuteTime": {
     "end_time": "2023-06-24T12:18:25.145889Z",
     "start_time": "2023-06-24T12:18:25.093201Z"
    }
   }
  },
  {
   "cell_type": "code",
   "execution_count": 103,
   "outputs": [
    {
     "data": {
      "text/plain": "<tf.Tensor: shape=(8,), dtype=float32, numpy=array([0., 0., 0., 0., 0., 0., 0., 0.], dtype=float32)>"
     },
     "execution_count": 103,
     "metadata": {},
     "output_type": "execute_result"
    }
   ],
   "source": [
    "x = [0.] * 8 + [tf.constant([], dtype=tf.float32)]\n",
    "tf.stack(x[:-1])"
   ],
   "metadata": {
    "collapsed": false,
    "ExecuteTime": {
     "end_time": "2023-06-24T12:30:05.428524Z",
     "start_time": "2023-06-24T12:30:05.425187Z"
    }
   }
  },
  {
   "cell_type": "markdown",
   "source": [
    "# TFRecord"
   ],
   "metadata": {
    "collapsed": false
   }
  },
  {
   "cell_type": "code",
   "execution_count": 110,
   "outputs": [],
   "source": [
    "options = tf.io.TFRecordOptions(compression_type='GZIP')\n",
    "with tf.io.TFRecordWriter('my_data.tfrecord', options=options) as f:\n",
    "    f.write(b'This is the first record')\n",
    "    f.write(b'And this is the second record')"
   ],
   "metadata": {
    "collapsed": false,
    "ExecuteTime": {
     "end_time": "2023-06-24T15:29:19.345223Z",
     "start_time": "2023-06-24T15:29:19.342209Z"
    }
   }
  },
  {
   "cell_type": "code",
   "execution_count": 111,
   "outputs": [
    {
     "name": "stdout",
     "output_type": "stream",
     "text": [
      "tf.Tensor(b'This is the first record', shape=(), dtype=string)\n",
      "tf.Tensor(b'And this is the second record', shape=(), dtype=string)\n"
     ]
    }
   ],
   "source": [
    "filepaths = ['my_data.tfrecord']\n",
    "dataset = tf.data.TFRecordDataset(filepaths, compression_type='GZIP')\n",
    "for item in dataset:\n",
    "    print(item)"
   ],
   "metadata": {
    "collapsed": false,
    "ExecuteTime": {
     "end_time": "2023-06-24T15:29:20.986671Z",
     "start_time": "2023-06-24T15:29:20.964720Z"
    }
   }
  },
  {
   "cell_type": "markdown",
   "source": [
    "# Predefined protobufs"
   ],
   "metadata": {
    "collapsed": false
   }
  },
  {
   "cell_type": "code",
   "execution_count": 115,
   "outputs": [
    {
     "data": {
      "text/plain": "features {\n  feature {\n    key: \"name\"\n    value {\n      bytes_list {\n        value: \"Alice\"\n      }\n    }\n  }\n  feature {\n    key: \"id\"\n    value {\n      int64_list {\n        value: 123\n      }\n    }\n  }\n  feature {\n    key: \"emails\"\n    value {\n      bytes_list {\n        value: \"a@b.com\"\n        value: \"c@d.com\"\n      }\n    }\n  }\n}"
     },
     "execution_count": 115,
     "metadata": {},
     "output_type": "execute_result"
    }
   ],
   "source": [
    "person_example = tf.train.Example(\n",
    "    features=tf.train.Features(\n",
    "        feature={\n",
    "            \"name\": tf.train.Feature(bytes_list=tf.train.BytesList(value=[b'Alice'])),\n",
    "            \"id\": tf.train.Feature(int64_list=tf.train.Int64List(value=[123])),\n",
    "            \"emails\": tf.train.Feature(bytes_list=tf.train.BytesList(value=[b'a@b.com', b'c@d.com'])),\n",
    "        }\n",
    "    )\n",
    ")\n",
    "person_example"
   ],
   "metadata": {
    "collapsed": false,
    "ExecuteTime": {
     "end_time": "2023-06-24T18:20:16.166019Z",
     "start_time": "2023-06-24T18:20:16.163240Z"
    }
   }
  },
  {
   "cell_type": "code",
   "execution_count": 116,
   "outputs": [
    {
     "data": {
      "text/plain": "b'\\n@\\n\\x11\\n\\x04name\\x12\\t\\n\\x07\\n\\x05Alice\\n\\x1e\\n\\x06emails\\x12\\x14\\n\\x12\\n\\x07a@b.com\\n\\x07c@d.com\\n\\x0b\\n\\x02id\\x12\\x05\\x1a\\x03\\n\\x01{'"
     },
     "execution_count": 116,
     "metadata": {},
     "output_type": "execute_result"
    }
   ],
   "source": [
    "person_example.SerializeToString()"
   ],
   "metadata": {
    "collapsed": false,
    "ExecuteTime": {
     "end_time": "2023-06-24T18:21:09.651452Z",
     "start_time": "2023-06-24T18:21:09.649266Z"
    }
   }
  }
 ],
 "metadata": {
  "kernelspec": {
   "display_name": "Python 3",
   "language": "python",
   "name": "python3"
  },
  "language_info": {
   "codemirror_mode": {
    "name": "ipython",
    "version": 2
   },
   "file_extension": ".py",
   "mimetype": "text/x-python",
   "name": "python",
   "nbconvert_exporter": "python",
   "pygments_lexer": "ipython2",
   "version": "2.7.6"
  }
 },
 "nbformat": 4,
 "nbformat_minor": 0
}
